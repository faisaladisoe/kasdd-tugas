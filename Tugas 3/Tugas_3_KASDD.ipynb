{
  "nbformat": 4,
  "nbformat_minor": 0,
  "metadata": {
    "colab": {
      "name": "Tugas_3_KASDD.ipynb",
      "provenance": [],
      "collapsed_sections": [],
      "toc_visible": true
    },
    "kernelspec": {
      "name": "python3",
      "display_name": "Python 3"
    },
    "language_info": {
      "name": "python"
    }
  },
  "cells": [
    {
      "cell_type": "markdown",
      "metadata": {
        "id": "0k_j9vD93i96"
      },
      "source": [
        "<center>\n",
        "<img src=\"https://drive.google.com/uc?id=1f1gGVI-rxcHjA90WEGNvvtSXF1pAxQwg\" alt=\"Fasilkom UI\" width=\"300\"/>\n",
        "\n",
        "CSGE603130 • Kecerdasan Artifisial dan Sains Data Dasar\n",
        "\n",
        "Semester Genap 2021/2022\n",
        "\n",
        "Fakultas Ilmu Komputer, Universitas Indonesia\n",
        "\n",
        "##**Tugas *3*: *Linear Models: Linear Regression, Ridge Regression, Lasso Regression, Logistic & Softmax Regression***\n",
        "\n",
        "###**Tenggat Waktu: 11 Mei 2022, 23.55 WIB**\n",
        "</center>\n",
        "\n",
        "####**Ketentuan:**\n",
        "\n",
        "1. Dataset yang digunakan pada tugas ini beserta deskripsinya telah disediakan di SCeLe.\n",
        "2. Buatlah program Jupyter Notebook yang menjawab pertanyaan sesuai dengan perintah soal yang disediakan.\n",
        "3. Dokumen Jupyter Notebook yang telah dilengkapi dengan jawaban dikumpulkan dengan format penamaan **Kelas_TugasX_NPM_Nama.ipynb**. Contoh: F_Tugas3_18062057731_Abdurrafi Arief.ipynb\n",
        "4. Kumpulkan dokumen tersebut pada submisi yang telah disediakan di SCeLe sesuai dengan kelas masing-masing sebelum **11 Mei 2022, 23.55 WIB**. Keterlambatan pengumpulan akan dikenakan pinalti.\n",
        "5. Praktikum ini dirancang sebagai **tugas mandiri**. Plagiarisme tidak diperkenankan dalam bentuk apapun. Adapun kolaborasi berupa diskusi (tanpa menyalin) dan literasi masih diperbolehkan dengan mencantumkan kolaborator dan sumber.\n"
      ]
    },
    {
      "cell_type": "markdown",
      "metadata": {
        "id": "JnRUE1Ul62_R"
      },
      "source": [
        "## **Pernyataan Integritas**\n",
        "\n",
        "Wajib diisi. Tanpa pernyataan integritas submisi akan dikenakan pinalti."
      ]
    },
    {
      "cell_type": "code",
      "metadata": {
        "id": "9tnfWWpN7vjq"
      },
      "source": [
        "# Isi dengan data diri Anda\n",
        "NAMA = \"Muhammad Faisal Adi Soesatyo\"\n",
        "KELAS = \"B\"\n",
        "NPM = \"1906293184\"\n",
        "\n",
        "# Isi dengan NPM teman yang berdiskusi dengan Anda\n",
        "KOLABORATOR = []\n",
        "\n",
        "# Isi dengan sumber referensi yang Anda gunakan dalam mengerjakan\n",
        "REFERENSI = [\n",
        "             \"https://pandas.pydata.org/docs/reference/api/pandas.concat.html\",\n",
        "             \"https://scikit-learn.org/stable/modules/generated/sklearn.linear_model.LinearRegression.html\",\n",
        "             \"https://www.geeksforgeeks.org/python-linear-regression-using-sklearn/\",\n",
        "             \"https://github.com/SSaishruthi/Linear_Regression_Detailed_Implementation/blob/master/Linear_Regression.ipynb\",\n",
        "             \"https://stackabuse.com/linear-regression-in-python-with-scikit-learn/\",\n",
        "             \"https://www.kdnuggets.com/2019/03/beginners-guide-linear-regression-python-scikit-learn.html\",\n",
        "             \"https://www.w3schools.com/python/python_ml_train_test.asp\",\n",
        "             \"https://scikit-learn.org/stable/modules/generated/sklearn.metrics.mean_squared_error.html\",\n",
        "             \"https://scikit-learn.org/stable/modules/generated/sklearn.metrics.mean_absolute_error.html\",\n",
        "             \"https://scikit-learn.org/stable/modules/generated/sklearn.metrics.r2_score.html\",\n",
        "             \"https://www.pluralsight.com/guides/linear-lasso-ridge-regression-scikit-learn\",\n",
        "             \"https://scikit-learn.org/stable/modules/generated/sklearn.linear_model.Ridge.html#sklearn.linear_model.Ridge\",\n",
        "             \"https://scikit-learn.org/stable/modules/generated/sklearn.linear_model.Lasso.html#sklearn.linear_model.Lasso\",\n",
        "             \"https://towardsdatascience.com/logistic-regression-using-python-sklearn-numpy-mnist-handwriting-recognition-matplotlib-a6b31e2b166a\",\n",
        "             \"https://medium.com/@lily_su/confusion-matrix-roc-auc-and-imbalanced-classes-in-logistic-regression-5c7ead3deefc\",\n",
        "             \"https://www.analyticsvidhya.com/blog/2020/06/auc-roc-curve-machine-learning/\",\n",
        "             \"\"\n",
        "]"
      ],
      "execution_count": 2,
      "outputs": []
    },
    {
      "cell_type": "code",
      "metadata": {
        "colab": {
          "base_uri": "https://localhost:8080/"
        },
        "id": "KVEdteyu3hot",
        "outputId": "1d7acf54-ddff-4133-f0d4-658cae074501"
      },
      "source": [
        "PERNYATAAN_INTEGRITAS = \"Saya, %s dari kelas %s dengan NPM %s, menyatakan bahwa seluruh jawaban pada pekerjaan ini murni saya kerjakan sendiri.\\n\\\n",
        "Saya tidak mencontek jawaban, memberikan jawaban, maupun menyalin dari sumber manapun.\\n \\\n",
        "\\n\\\n",
        "Jika saya melanggar pernyataan tersebut, saya siap menerima konsekuensi apapun yang diberikan.\\n   \\\n",
        "(%s)\" % (NAMA, KELAS, NPM, NAMA)\n",
        "\n",
        "print(PERNYATAAN_INTEGRITAS)"
      ],
      "execution_count": 3,
      "outputs": [
        {
          "output_type": "stream",
          "name": "stdout",
          "text": [
            "Saya, Muhammad Faisal Adi Soesatyo dari kelas B dengan NPM 1906293184, menyatakan bahwa seluruh jawaban pada pekerjaan ini murni saya kerjakan sendiri.\n",
            "Saya tidak mencontek jawaban, memberikan jawaban, maupun menyalin dari sumber manapun.\n",
            " \n",
            "Jika saya melanggar pernyataan tersebut, saya siap menerima konsekuensi apapun yang diberikan.\n",
            "   (Muhammad Faisal Adi Soesatyo)\n"
          ]
        }
      ]
    },
    {
      "cell_type": "code",
      "metadata": {
        "id": "V_71ytyI3pBf"
      },
      "source": [
        "# import library data\n",
        "import pandas as pd\n",
        "import numpy as np\n",
        "\n",
        "import matplotlib.pyplot as plt\n",
        "import seaborn as sns\n",
        "import scipy.stats as scp\n",
        "from scipy import stats\n",
        "\n",
        "from sklearn.preprocessing import LabelEncoder, Normalizer, StandardScaler\n",
        "import plotly.express as px"
      ],
      "execution_count": 4,
      "outputs": []
    },
    {
      "cell_type": "markdown",
      "source": [
        "#Soal Tugas 3"
      ],
      "metadata": {
        "id": "kOflBqsDBrMU"
      }
    },
    {
      "cell_type": "markdown",
      "source": [
        "Data merupakan modifikasi dari dataset di sinii: https://www.kaggle.com/datasets/enashed/diamond-prices\n",
        "\n",
        "## Penjelasan Dataset\n",
        "\n",
        "Data adalah ciri-ciri suatu berlian dan juga harga jualnya.\n",
        "\n",
        "Deskripsi attribut-attribut:\n",
        "\n",
        "\n",
        "*   diamond_id: Index dari berlian\n",
        "* shape: Bentuk dari berlian\n",
        "* size: Ukuran dari berlian\n",
        "* color: Warna dari berlian\n",
        "* fancy_color_dominant_color: Warna khusus utama dari berlian (apabila ada)\n",
        "* fancy_color_secondary_color: Warna khusus kedua dari berlian (apabila ada)\n",
        "* fancy_color_overtone: Warna overtone dari berlian (apabila ada)\n",
        "* fancy_color_intensity: Intensitas warna dari berlian (apabila ada)\n",
        "* clarity: kerjernihan dari berlian\n",
        "* cut: potongan berlian\n",
        "* symmetry: penilaian simetri dari berlian\n",
        "* polish: polesan dari berlian\n",
        "* meas_length: ukuran panjang\n",
        "* meas_width: ukuran lebar\n",
        "* meas_depth: ukuran kedalaman\n",
        "* girdle_min: ukuran keliling minimal dari berlian\n",
        "* girdle_max: ukuran keliling maksimal dari berlian\n",
        "* culet_size: ukuran kulet\n",
        "* culet_condition: kondisi kulet\n",
        "* lab: Laboratori yang memberikan penilaian\n",
        "* date\n",
        "* TARGET_sales_price: harga jual dari berlian dalam USD\n",
        "* TARGET_logistic: Label 0 untuk harga <= 1970 USD, Label 1 untuk harga > 1970 USD\n",
        "* TARGET_softmax: Label 0 untuk harga <= 958, label 1 untuk 958 < harga <= 5207, label 2 untuk harga > 5207\n",
        "\n"
      ],
      "metadata": {
        "id": "rLe-uxdXBu-c"
      }
    },
    {
      "cell_type": "code",
      "source": [
        "df = pd.read_csv(\"diamonds_tugas_3.csv\")"
      ],
      "metadata": {
        "id": "nbK-rA7bCH4j"
      },
      "execution_count": 5,
      "outputs": []
    },
    {
      "cell_type": "code",
      "source": [
        "df.head()"
      ],
      "metadata": {
        "colab": {
          "base_uri": "https://localhost:8080/",
          "height": 386
        },
        "id": "lyM2DUBIIXjB",
        "outputId": "404cf749-96ad-4214-ef33-c13d10246d6d"
      },
      "execution_count": 6,
      "outputs": [
        {
          "output_type": "execute_result",
          "data": {
            "text/plain": [
              "   diamond_id  shape  size color fancy_color_dominant_color  \\\n",
              "0   131328926  Round  0.09     E                        NaN   \n",
              "1   131704776  Round  0.09     E                        NaN   \n",
              "2   131584417  Round  0.09     E                        NaN   \n",
              "3   131584416  Round  0.09     E                        NaN   \n",
              "4   131613644  Round  0.09     E                        NaN   \n",
              "\n",
              "  fancy_color_secondary_color fancy_color_overtone fancy_color_intensity  \\\n",
              "0                         NaN                  NaN                   NaN   \n",
              "1                         NaN                  NaN                   NaN   \n",
              "2                         NaN                  NaN                   NaN   \n",
              "3                         NaN                  NaN                   NaN   \n",
              "4                         NaN                  NaN                   NaN   \n",
              "\n",
              "  clarity        cut  ... meas_depth girdle_min  girdle_max  culet_size  \\\n",
              "0    VVS2  Excellent  ...       1.79          M           M           N   \n",
              "1    VVS2  Very Good  ...       1.78        STK         STK           N   \n",
              "2    VVS2  Excellent  ...       1.77         TN           M         NaN   \n",
              "3    VVS2  Excellent  ...       1.78          M         STK         NaN   \n",
              "4    VVS2  Very Good  ...       1.82        STK         STK           N   \n",
              "\n",
              "   culet_condition  lab        date TARGET_sales_price TARGET_logistic  \\\n",
              "0              NaN  IGI  2022-02-24                200               0   \n",
              "1              NaN  IGI  2022-02-24                200               0   \n",
              "2              NaN  IGI  2022-02-24                200               0   \n",
              "3              NaN  IGI  2022-02-24                200               0   \n",
              "4              NaN  IGI  2022-02-24                200               0   \n",
              "\n",
              "  TARGET_softmax  \n",
              "0              1  \n",
              "1              1  \n",
              "2              1  \n",
              "3              1  \n",
              "4              1  \n",
              "\n",
              "[5 rows x 24 columns]"
            ],
            "text/html": [
              "\n",
              "  <div id=\"df-b2c67b6b-64ff-459b-821e-58b2b20cda71\">\n",
              "    <div class=\"colab-df-container\">\n",
              "      <div>\n",
              "<style scoped>\n",
              "    .dataframe tbody tr th:only-of-type {\n",
              "        vertical-align: middle;\n",
              "    }\n",
              "\n",
              "    .dataframe tbody tr th {\n",
              "        vertical-align: top;\n",
              "    }\n",
              "\n",
              "    .dataframe thead th {\n",
              "        text-align: right;\n",
              "    }\n",
              "</style>\n",
              "<table border=\"1\" class=\"dataframe\">\n",
              "  <thead>\n",
              "    <tr style=\"text-align: right;\">\n",
              "      <th></th>\n",
              "      <th>diamond_id</th>\n",
              "      <th>shape</th>\n",
              "      <th>size</th>\n",
              "      <th>color</th>\n",
              "      <th>fancy_color_dominant_color</th>\n",
              "      <th>fancy_color_secondary_color</th>\n",
              "      <th>fancy_color_overtone</th>\n",
              "      <th>fancy_color_intensity</th>\n",
              "      <th>clarity</th>\n",
              "      <th>cut</th>\n",
              "      <th>...</th>\n",
              "      <th>meas_depth</th>\n",
              "      <th>girdle_min</th>\n",
              "      <th>girdle_max</th>\n",
              "      <th>culet_size</th>\n",
              "      <th>culet_condition</th>\n",
              "      <th>lab</th>\n",
              "      <th>date</th>\n",
              "      <th>TARGET_sales_price</th>\n",
              "      <th>TARGET_logistic</th>\n",
              "      <th>TARGET_softmax</th>\n",
              "    </tr>\n",
              "  </thead>\n",
              "  <tbody>\n",
              "    <tr>\n",
              "      <th>0</th>\n",
              "      <td>131328926</td>\n",
              "      <td>Round</td>\n",
              "      <td>0.09</td>\n",
              "      <td>E</td>\n",
              "      <td>NaN</td>\n",
              "      <td>NaN</td>\n",
              "      <td>NaN</td>\n",
              "      <td>NaN</td>\n",
              "      <td>VVS2</td>\n",
              "      <td>Excellent</td>\n",
              "      <td>...</td>\n",
              "      <td>1.79</td>\n",
              "      <td>M</td>\n",
              "      <td>M</td>\n",
              "      <td>N</td>\n",
              "      <td>NaN</td>\n",
              "      <td>IGI</td>\n",
              "      <td>2022-02-24</td>\n",
              "      <td>200</td>\n",
              "      <td>0</td>\n",
              "      <td>1</td>\n",
              "    </tr>\n",
              "    <tr>\n",
              "      <th>1</th>\n",
              "      <td>131704776</td>\n",
              "      <td>Round</td>\n",
              "      <td>0.09</td>\n",
              "      <td>E</td>\n",
              "      <td>NaN</td>\n",
              "      <td>NaN</td>\n",
              "      <td>NaN</td>\n",
              "      <td>NaN</td>\n",
              "      <td>VVS2</td>\n",
              "      <td>Very Good</td>\n",
              "      <td>...</td>\n",
              "      <td>1.78</td>\n",
              "      <td>STK</td>\n",
              "      <td>STK</td>\n",
              "      <td>N</td>\n",
              "      <td>NaN</td>\n",
              "      <td>IGI</td>\n",
              "      <td>2022-02-24</td>\n",
              "      <td>200</td>\n",
              "      <td>0</td>\n",
              "      <td>1</td>\n",
              "    </tr>\n",
              "    <tr>\n",
              "      <th>2</th>\n",
              "      <td>131584417</td>\n",
              "      <td>Round</td>\n",
              "      <td>0.09</td>\n",
              "      <td>E</td>\n",
              "      <td>NaN</td>\n",
              "      <td>NaN</td>\n",
              "      <td>NaN</td>\n",
              "      <td>NaN</td>\n",
              "      <td>VVS2</td>\n",
              "      <td>Excellent</td>\n",
              "      <td>...</td>\n",
              "      <td>1.77</td>\n",
              "      <td>TN</td>\n",
              "      <td>M</td>\n",
              "      <td>NaN</td>\n",
              "      <td>NaN</td>\n",
              "      <td>IGI</td>\n",
              "      <td>2022-02-24</td>\n",
              "      <td>200</td>\n",
              "      <td>0</td>\n",
              "      <td>1</td>\n",
              "    </tr>\n",
              "    <tr>\n",
              "      <th>3</th>\n",
              "      <td>131584416</td>\n",
              "      <td>Round</td>\n",
              "      <td>0.09</td>\n",
              "      <td>E</td>\n",
              "      <td>NaN</td>\n",
              "      <td>NaN</td>\n",
              "      <td>NaN</td>\n",
              "      <td>NaN</td>\n",
              "      <td>VVS2</td>\n",
              "      <td>Excellent</td>\n",
              "      <td>...</td>\n",
              "      <td>1.78</td>\n",
              "      <td>M</td>\n",
              "      <td>STK</td>\n",
              "      <td>NaN</td>\n",
              "      <td>NaN</td>\n",
              "      <td>IGI</td>\n",
              "      <td>2022-02-24</td>\n",
              "      <td>200</td>\n",
              "      <td>0</td>\n",
              "      <td>1</td>\n",
              "    </tr>\n",
              "    <tr>\n",
              "      <th>4</th>\n",
              "      <td>131613644</td>\n",
              "      <td>Round</td>\n",
              "      <td>0.09</td>\n",
              "      <td>E</td>\n",
              "      <td>NaN</td>\n",
              "      <td>NaN</td>\n",
              "      <td>NaN</td>\n",
              "      <td>NaN</td>\n",
              "      <td>VVS2</td>\n",
              "      <td>Very Good</td>\n",
              "      <td>...</td>\n",
              "      <td>1.82</td>\n",
              "      <td>STK</td>\n",
              "      <td>STK</td>\n",
              "      <td>N</td>\n",
              "      <td>NaN</td>\n",
              "      <td>IGI</td>\n",
              "      <td>2022-02-24</td>\n",
              "      <td>200</td>\n",
              "      <td>0</td>\n",
              "      <td>1</td>\n",
              "    </tr>\n",
              "  </tbody>\n",
              "</table>\n",
              "<p>5 rows × 24 columns</p>\n",
              "</div>\n",
              "      <button class=\"colab-df-convert\" onclick=\"convertToInteractive('df-b2c67b6b-64ff-459b-821e-58b2b20cda71')\"\n",
              "              title=\"Convert this dataframe to an interactive table.\"\n",
              "              style=\"display:none;\">\n",
              "        \n",
              "  <svg xmlns=\"http://www.w3.org/2000/svg\" height=\"24px\"viewBox=\"0 0 24 24\"\n",
              "       width=\"24px\">\n",
              "    <path d=\"M0 0h24v24H0V0z\" fill=\"none\"/>\n",
              "    <path d=\"M18.56 5.44l.94 2.06.94-2.06 2.06-.94-2.06-.94-.94-2.06-.94 2.06-2.06.94zm-11 1L8.5 8.5l.94-2.06 2.06-.94-2.06-.94L8.5 2.5l-.94 2.06-2.06.94zm10 10l.94 2.06.94-2.06 2.06-.94-2.06-.94-.94-2.06-.94 2.06-2.06.94z\"/><path d=\"M17.41 7.96l-1.37-1.37c-.4-.4-.92-.59-1.43-.59-.52 0-1.04.2-1.43.59L10.3 9.45l-7.72 7.72c-.78.78-.78 2.05 0 2.83L4 21.41c.39.39.9.59 1.41.59.51 0 1.02-.2 1.41-.59l7.78-7.78 2.81-2.81c.8-.78.8-2.07 0-2.86zM5.41 20L4 18.59l7.72-7.72 1.47 1.35L5.41 20z\"/>\n",
              "  </svg>\n",
              "      </button>\n",
              "      \n",
              "  <style>\n",
              "    .colab-df-container {\n",
              "      display:flex;\n",
              "      flex-wrap:wrap;\n",
              "      gap: 12px;\n",
              "    }\n",
              "\n",
              "    .colab-df-convert {\n",
              "      background-color: #E8F0FE;\n",
              "      border: none;\n",
              "      border-radius: 50%;\n",
              "      cursor: pointer;\n",
              "      display: none;\n",
              "      fill: #1967D2;\n",
              "      height: 32px;\n",
              "      padding: 0 0 0 0;\n",
              "      width: 32px;\n",
              "    }\n",
              "\n",
              "    .colab-df-convert:hover {\n",
              "      background-color: #E2EBFA;\n",
              "      box-shadow: 0px 1px 2px rgba(60, 64, 67, 0.3), 0px 1px 3px 1px rgba(60, 64, 67, 0.15);\n",
              "      fill: #174EA6;\n",
              "    }\n",
              "\n",
              "    [theme=dark] .colab-df-convert {\n",
              "      background-color: #3B4455;\n",
              "      fill: #D2E3FC;\n",
              "    }\n",
              "\n",
              "    [theme=dark] .colab-df-convert:hover {\n",
              "      background-color: #434B5C;\n",
              "      box-shadow: 0px 1px 3px 1px rgba(0, 0, 0, 0.15);\n",
              "      filter: drop-shadow(0px 1px 2px rgba(0, 0, 0, 0.3));\n",
              "      fill: #FFFFFF;\n",
              "    }\n",
              "  </style>\n",
              "\n",
              "      <script>\n",
              "        const buttonEl =\n",
              "          document.querySelector('#df-b2c67b6b-64ff-459b-821e-58b2b20cda71 button.colab-df-convert');\n",
              "        buttonEl.style.display =\n",
              "          google.colab.kernel.accessAllowed ? 'block' : 'none';\n",
              "\n",
              "        async function convertToInteractive(key) {\n",
              "          const element = document.querySelector('#df-b2c67b6b-64ff-459b-821e-58b2b20cda71');\n",
              "          const dataTable =\n",
              "            await google.colab.kernel.invokeFunction('convertToInteractive',\n",
              "                                                     [key], {});\n",
              "          if (!dataTable) return;\n",
              "\n",
              "          const docLinkHtml = 'Like what you see? Visit the ' +\n",
              "            '<a target=\"_blank\" href=https://colab.research.google.com/notebooks/data_table.ipynb>data table notebook</a>'\n",
              "            + ' to learn more about interactive tables.';\n",
              "          element.innerHTML = '';\n",
              "          dataTable['output_type'] = 'display_data';\n",
              "          await google.colab.output.renderOutput(dataTable, element);\n",
              "          const docLink = document.createElement('div');\n",
              "          docLink.innerHTML = docLinkHtml;\n",
              "          element.appendChild(docLink);\n",
              "        }\n",
              "      </script>\n",
              "    </div>\n",
              "  </div>\n",
              "  "
            ]
          },
          "metadata": {},
          "execution_count": 6
        }
      ]
    },
    {
      "cell_type": "markdown",
      "source": [
        "# [25] Preprocessing\n",
        "\n",
        "1. [10] Berikan ringkasan mengenai data tersebut terkait dengan deskripsi setiap atribut, jumlah atribut (numerik & kategorik), jumlah missing values, jumlah duplikasi data, dan kemungkinan adanya outliers pada data!\n",
        "\n",
        "\n"
      ],
      "metadata": {
        "id": "5ODdPgQGJhis"
      }
    },
    {
      "cell_type": "markdown",
      "source": [
        "**Informasi terkait data**\n",
        "\n"
      ],
      "metadata": {
        "id": "hAXUF6Jnc7f_"
      }
    },
    {
      "cell_type": "code",
      "source": [
        "# Berikan jawaban 1 di sini\n",
        "\n",
        "# Total data and Total attributes (numeric and categoric)\n",
        "total_rows, total_attributes = df.shape\n",
        "print(\"Total data:\", total_rows)\n",
        "print(\"Total attributes:\", total_attributes)\n",
        "print()\n",
        "\n",
        "# Info about attributes\n",
        "display(df.info())\n",
        "print()\n",
        "\n",
        "# Statistics of each attributes\n",
        "numericData = df.drop(columns = df.columns[0]).describe() #decide to drop the id\n",
        "categoricData = df.describe(include = object)\n",
        "display(numericData)\n",
        "display(categoricData)"
      ],
      "metadata": {
        "id": "4R3eg8haKk5H",
        "outputId": "d04c53a4-6498-48d4-dd1d-ce0d0930babb",
        "colab": {
          "base_uri": "https://localhost:8080/",
          "height": 1000
        }
      },
      "execution_count": 7,
      "outputs": [
        {
          "output_type": "stream",
          "name": "stdout",
          "text": [
            "Total data: 219704\n",
            "Total attributes: 24\n",
            "\n",
            "<class 'pandas.core.frame.DataFrame'>\n",
            "RangeIndex: 219704 entries, 0 to 219703\n",
            "Data columns (total 24 columns):\n",
            " #   Column                       Non-Null Count   Dtype  \n",
            "---  ------                       --------------   -----  \n",
            " 0   diamond_id                   219704 non-null  int64  \n",
            " 1   shape                        219704 non-null  object \n",
            " 2   size                         219704 non-null  float64\n",
            " 3   color                        210542 non-null  object \n",
            " 4   fancy_color_dominant_color   9164 non-null    object \n",
            " 5   fancy_color_secondary_color  1062 non-null    object \n",
            " 6   fancy_color_overtone         2038 non-null    object \n",
            " 7   fancy_color_intensity        9162 non-null    object \n",
            " 8   clarity                      219704 non-null  object \n",
            " 9   cut                          159097 non-null  object \n",
            " 10  symmetry                     219704 non-null  object \n",
            " 11  polish                       219704 non-null  object \n",
            " 12  meas_length                  219704 non-null  float64\n",
            " 13  meas_width                   219704 non-null  float64\n",
            " 14  meas_depth                   219704 non-null  float64\n",
            " 15  girdle_min                   136271 non-null  object \n",
            " 16  girdle_max                   135408 non-null  object \n",
            " 17  culet_size                   133963 non-null  object \n",
            " 18  culet_condition              15319 non-null   object \n",
            " 19  lab                          219704 non-null  object \n",
            " 20  date                         219704 non-null  object \n",
            " 21  TARGET_sales_price           219704 non-null  int64  \n",
            " 22  TARGET_logistic              219704 non-null  int64  \n",
            " 23  TARGET_softmax               219704 non-null  int64  \n",
            "dtypes: float64(4), int64(4), object(16)\n",
            "memory usage: 40.2+ MB\n"
          ]
        },
        {
          "output_type": "display_data",
          "data": {
            "text/plain": [
              "None"
            ]
          },
          "metadata": {}
        },
        {
          "output_type": "stream",
          "name": "stdout",
          "text": [
            "\n"
          ]
        },
        {
          "output_type": "display_data",
          "data": {
            "text/plain": [
              "                size    meas_length     meas_width     meas_depth  \\\n",
              "count  219704.000000  219704.000000  219704.000000  219704.000000   \n",
              "mean        0.755176       5.548867       5.135623       3.285698   \n",
              "std         0.845892       1.763932       1.374527       2.054817   \n",
              "min         0.080000       0.000000       0.000000       0.000000   \n",
              "25%         0.310000       4.350000       4.310000       2.680000   \n",
              "50%         0.500000       5.060000       4.800000       3.030000   \n",
              "75%         1.000000       6.350000       5.700000       3.630000   \n",
              "max        19.350000      93.660000      62.300000      76.300000   \n",
              "\n",
              "       TARGET_sales_price  TARGET_logistic  TARGET_softmax  \n",
              "count        2.197040e+05    219704.000000   219704.000000  \n",
              "mean         6.908035e+03         0.499927        1.110685  \n",
              "std          2.595944e+04         0.500001        0.614049  \n",
              "min          2.000000e+02         0.000000        0.000000  \n",
              "25%          9.580000e+02         0.000000        1.000000  \n",
              "50%          1.970000e+03         0.000000        1.000000  \n",
              "75%          5.207000e+03         1.000000        1.000000  \n",
              "max          1.449881e+06         1.000000        2.000000  "
            ],
            "text/html": [
              "\n",
              "  <div id=\"df-e0e10b77-36b1-4ace-9199-41a98abc7801\">\n",
              "    <div class=\"colab-df-container\">\n",
              "      <div>\n",
              "<style scoped>\n",
              "    .dataframe tbody tr th:only-of-type {\n",
              "        vertical-align: middle;\n",
              "    }\n",
              "\n",
              "    .dataframe tbody tr th {\n",
              "        vertical-align: top;\n",
              "    }\n",
              "\n",
              "    .dataframe thead th {\n",
              "        text-align: right;\n",
              "    }\n",
              "</style>\n",
              "<table border=\"1\" class=\"dataframe\">\n",
              "  <thead>\n",
              "    <tr style=\"text-align: right;\">\n",
              "      <th></th>\n",
              "      <th>size</th>\n",
              "      <th>meas_length</th>\n",
              "      <th>meas_width</th>\n",
              "      <th>meas_depth</th>\n",
              "      <th>TARGET_sales_price</th>\n",
              "      <th>TARGET_logistic</th>\n",
              "      <th>TARGET_softmax</th>\n",
              "    </tr>\n",
              "  </thead>\n",
              "  <tbody>\n",
              "    <tr>\n",
              "      <th>count</th>\n",
              "      <td>219704.000000</td>\n",
              "      <td>219704.000000</td>\n",
              "      <td>219704.000000</td>\n",
              "      <td>219704.000000</td>\n",
              "      <td>2.197040e+05</td>\n",
              "      <td>219704.000000</td>\n",
              "      <td>219704.000000</td>\n",
              "    </tr>\n",
              "    <tr>\n",
              "      <th>mean</th>\n",
              "      <td>0.755176</td>\n",
              "      <td>5.548867</td>\n",
              "      <td>5.135623</td>\n",
              "      <td>3.285698</td>\n",
              "      <td>6.908035e+03</td>\n",
              "      <td>0.499927</td>\n",
              "      <td>1.110685</td>\n",
              "    </tr>\n",
              "    <tr>\n",
              "      <th>std</th>\n",
              "      <td>0.845892</td>\n",
              "      <td>1.763932</td>\n",
              "      <td>1.374527</td>\n",
              "      <td>2.054817</td>\n",
              "      <td>2.595944e+04</td>\n",
              "      <td>0.500001</td>\n",
              "      <td>0.614049</td>\n",
              "    </tr>\n",
              "    <tr>\n",
              "      <th>min</th>\n",
              "      <td>0.080000</td>\n",
              "      <td>0.000000</td>\n",
              "      <td>0.000000</td>\n",
              "      <td>0.000000</td>\n",
              "      <td>2.000000e+02</td>\n",
              "      <td>0.000000</td>\n",
              "      <td>0.000000</td>\n",
              "    </tr>\n",
              "    <tr>\n",
              "      <th>25%</th>\n",
              "      <td>0.310000</td>\n",
              "      <td>4.350000</td>\n",
              "      <td>4.310000</td>\n",
              "      <td>2.680000</td>\n",
              "      <td>9.580000e+02</td>\n",
              "      <td>0.000000</td>\n",
              "      <td>1.000000</td>\n",
              "    </tr>\n",
              "    <tr>\n",
              "      <th>50%</th>\n",
              "      <td>0.500000</td>\n",
              "      <td>5.060000</td>\n",
              "      <td>4.800000</td>\n",
              "      <td>3.030000</td>\n",
              "      <td>1.970000e+03</td>\n",
              "      <td>0.000000</td>\n",
              "      <td>1.000000</td>\n",
              "    </tr>\n",
              "    <tr>\n",
              "      <th>75%</th>\n",
              "      <td>1.000000</td>\n",
              "      <td>6.350000</td>\n",
              "      <td>5.700000</td>\n",
              "      <td>3.630000</td>\n",
              "      <td>5.207000e+03</td>\n",
              "      <td>1.000000</td>\n",
              "      <td>1.000000</td>\n",
              "    </tr>\n",
              "    <tr>\n",
              "      <th>max</th>\n",
              "      <td>19.350000</td>\n",
              "      <td>93.660000</td>\n",
              "      <td>62.300000</td>\n",
              "      <td>76.300000</td>\n",
              "      <td>1.449881e+06</td>\n",
              "      <td>1.000000</td>\n",
              "      <td>2.000000</td>\n",
              "    </tr>\n",
              "  </tbody>\n",
              "</table>\n",
              "</div>\n",
              "      <button class=\"colab-df-convert\" onclick=\"convertToInteractive('df-e0e10b77-36b1-4ace-9199-41a98abc7801')\"\n",
              "              title=\"Convert this dataframe to an interactive table.\"\n",
              "              style=\"display:none;\">\n",
              "        \n",
              "  <svg xmlns=\"http://www.w3.org/2000/svg\" height=\"24px\"viewBox=\"0 0 24 24\"\n",
              "       width=\"24px\">\n",
              "    <path d=\"M0 0h24v24H0V0z\" fill=\"none\"/>\n",
              "    <path d=\"M18.56 5.44l.94 2.06.94-2.06 2.06-.94-2.06-.94-.94-2.06-.94 2.06-2.06.94zm-11 1L8.5 8.5l.94-2.06 2.06-.94-2.06-.94L8.5 2.5l-.94 2.06-2.06.94zm10 10l.94 2.06.94-2.06 2.06-.94-2.06-.94-.94-2.06-.94 2.06-2.06.94z\"/><path d=\"M17.41 7.96l-1.37-1.37c-.4-.4-.92-.59-1.43-.59-.52 0-1.04.2-1.43.59L10.3 9.45l-7.72 7.72c-.78.78-.78 2.05 0 2.83L4 21.41c.39.39.9.59 1.41.59.51 0 1.02-.2 1.41-.59l7.78-7.78 2.81-2.81c.8-.78.8-2.07 0-2.86zM5.41 20L4 18.59l7.72-7.72 1.47 1.35L5.41 20z\"/>\n",
              "  </svg>\n",
              "      </button>\n",
              "      \n",
              "  <style>\n",
              "    .colab-df-container {\n",
              "      display:flex;\n",
              "      flex-wrap:wrap;\n",
              "      gap: 12px;\n",
              "    }\n",
              "\n",
              "    .colab-df-convert {\n",
              "      background-color: #E8F0FE;\n",
              "      border: none;\n",
              "      border-radius: 50%;\n",
              "      cursor: pointer;\n",
              "      display: none;\n",
              "      fill: #1967D2;\n",
              "      height: 32px;\n",
              "      padding: 0 0 0 0;\n",
              "      width: 32px;\n",
              "    }\n",
              "\n",
              "    .colab-df-convert:hover {\n",
              "      background-color: #E2EBFA;\n",
              "      box-shadow: 0px 1px 2px rgba(60, 64, 67, 0.3), 0px 1px 3px 1px rgba(60, 64, 67, 0.15);\n",
              "      fill: #174EA6;\n",
              "    }\n",
              "\n",
              "    [theme=dark] .colab-df-convert {\n",
              "      background-color: #3B4455;\n",
              "      fill: #D2E3FC;\n",
              "    }\n",
              "\n",
              "    [theme=dark] .colab-df-convert:hover {\n",
              "      background-color: #434B5C;\n",
              "      box-shadow: 0px 1px 3px 1px rgba(0, 0, 0, 0.15);\n",
              "      filter: drop-shadow(0px 1px 2px rgba(0, 0, 0, 0.3));\n",
              "      fill: #FFFFFF;\n",
              "    }\n",
              "  </style>\n",
              "\n",
              "      <script>\n",
              "        const buttonEl =\n",
              "          document.querySelector('#df-e0e10b77-36b1-4ace-9199-41a98abc7801 button.colab-df-convert');\n",
              "        buttonEl.style.display =\n",
              "          google.colab.kernel.accessAllowed ? 'block' : 'none';\n",
              "\n",
              "        async function convertToInteractive(key) {\n",
              "          const element = document.querySelector('#df-e0e10b77-36b1-4ace-9199-41a98abc7801');\n",
              "          const dataTable =\n",
              "            await google.colab.kernel.invokeFunction('convertToInteractive',\n",
              "                                                     [key], {});\n",
              "          if (!dataTable) return;\n",
              "\n",
              "          const docLinkHtml = 'Like what you see? Visit the ' +\n",
              "            '<a target=\"_blank\" href=https://colab.research.google.com/notebooks/data_table.ipynb>data table notebook</a>'\n",
              "            + ' to learn more about interactive tables.';\n",
              "          element.innerHTML = '';\n",
              "          dataTable['output_type'] = 'display_data';\n",
              "          await google.colab.output.renderOutput(dataTable, element);\n",
              "          const docLink = document.createElement('div');\n",
              "          docLink.innerHTML = docLinkHtml;\n",
              "          element.appendChild(docLink);\n",
              "        }\n",
              "      </script>\n",
              "    </div>\n",
              "  </div>\n",
              "  "
            ]
          },
          "metadata": {}
        },
        {
          "output_type": "display_data",
          "data": {
            "text/plain": [
              "         shape   color fancy_color_dominant_color fancy_color_secondary_color  \\\n",
              "count   219704  210542                       9164                        1062   \n",
              "unique      11      10                         12                          10   \n",
              "top      Round       E                     Yellow                       Brown   \n",
              "freq    158316   33103                       6487                         306   \n",
              "\n",
              "       fancy_color_overtone fancy_color_intensity clarity        cut  \\\n",
              "count                  2038                  9162  219704     159097   \n",
              "unique                    8                     9      11          6   \n",
              "top                    None                 Fancy     SI1  Excellent   \n",
              "freq                   1650                  3447   38628     124861   \n",
              "\n",
              "         symmetry     polish girdle_min girdle_max culet_size culet_condition  \\\n",
              "count      219704     219704     136271     135408     133963           15319   \n",
              "unique          5          5          9          9          8               3   \n",
              "top     Excellent  Excellent          M        STK          N         Pointed   \n",
              "freq       131619     175806      74421      70440     131899           15293   \n",
              "\n",
              "           lab        date  \n",
              "count   219704      219704  \n",
              "unique       3           1  \n",
              "top        GIA  2022-02-24  \n",
              "freq    200434      219704  "
            ],
            "text/html": [
              "\n",
              "  <div id=\"df-fec5d01d-019f-4da9-bc1e-bfa815c03340\">\n",
              "    <div class=\"colab-df-container\">\n",
              "      <div>\n",
              "<style scoped>\n",
              "    .dataframe tbody tr th:only-of-type {\n",
              "        vertical-align: middle;\n",
              "    }\n",
              "\n",
              "    .dataframe tbody tr th {\n",
              "        vertical-align: top;\n",
              "    }\n",
              "\n",
              "    .dataframe thead th {\n",
              "        text-align: right;\n",
              "    }\n",
              "</style>\n",
              "<table border=\"1\" class=\"dataframe\">\n",
              "  <thead>\n",
              "    <tr style=\"text-align: right;\">\n",
              "      <th></th>\n",
              "      <th>shape</th>\n",
              "      <th>color</th>\n",
              "      <th>fancy_color_dominant_color</th>\n",
              "      <th>fancy_color_secondary_color</th>\n",
              "      <th>fancy_color_overtone</th>\n",
              "      <th>fancy_color_intensity</th>\n",
              "      <th>clarity</th>\n",
              "      <th>cut</th>\n",
              "      <th>symmetry</th>\n",
              "      <th>polish</th>\n",
              "      <th>girdle_min</th>\n",
              "      <th>girdle_max</th>\n",
              "      <th>culet_size</th>\n",
              "      <th>culet_condition</th>\n",
              "      <th>lab</th>\n",
              "      <th>date</th>\n",
              "    </tr>\n",
              "  </thead>\n",
              "  <tbody>\n",
              "    <tr>\n",
              "      <th>count</th>\n",
              "      <td>219704</td>\n",
              "      <td>210542</td>\n",
              "      <td>9164</td>\n",
              "      <td>1062</td>\n",
              "      <td>2038</td>\n",
              "      <td>9162</td>\n",
              "      <td>219704</td>\n",
              "      <td>159097</td>\n",
              "      <td>219704</td>\n",
              "      <td>219704</td>\n",
              "      <td>136271</td>\n",
              "      <td>135408</td>\n",
              "      <td>133963</td>\n",
              "      <td>15319</td>\n",
              "      <td>219704</td>\n",
              "      <td>219704</td>\n",
              "    </tr>\n",
              "    <tr>\n",
              "      <th>unique</th>\n",
              "      <td>11</td>\n",
              "      <td>10</td>\n",
              "      <td>12</td>\n",
              "      <td>10</td>\n",
              "      <td>8</td>\n",
              "      <td>9</td>\n",
              "      <td>11</td>\n",
              "      <td>6</td>\n",
              "      <td>5</td>\n",
              "      <td>5</td>\n",
              "      <td>9</td>\n",
              "      <td>9</td>\n",
              "      <td>8</td>\n",
              "      <td>3</td>\n",
              "      <td>3</td>\n",
              "      <td>1</td>\n",
              "    </tr>\n",
              "    <tr>\n",
              "      <th>top</th>\n",
              "      <td>Round</td>\n",
              "      <td>E</td>\n",
              "      <td>Yellow</td>\n",
              "      <td>Brown</td>\n",
              "      <td>None</td>\n",
              "      <td>Fancy</td>\n",
              "      <td>SI1</td>\n",
              "      <td>Excellent</td>\n",
              "      <td>Excellent</td>\n",
              "      <td>Excellent</td>\n",
              "      <td>M</td>\n",
              "      <td>STK</td>\n",
              "      <td>N</td>\n",
              "      <td>Pointed</td>\n",
              "      <td>GIA</td>\n",
              "      <td>2022-02-24</td>\n",
              "    </tr>\n",
              "    <tr>\n",
              "      <th>freq</th>\n",
              "      <td>158316</td>\n",
              "      <td>33103</td>\n",
              "      <td>6487</td>\n",
              "      <td>306</td>\n",
              "      <td>1650</td>\n",
              "      <td>3447</td>\n",
              "      <td>38628</td>\n",
              "      <td>124861</td>\n",
              "      <td>131619</td>\n",
              "      <td>175806</td>\n",
              "      <td>74421</td>\n",
              "      <td>70440</td>\n",
              "      <td>131899</td>\n",
              "      <td>15293</td>\n",
              "      <td>200434</td>\n",
              "      <td>219704</td>\n",
              "    </tr>\n",
              "  </tbody>\n",
              "</table>\n",
              "</div>\n",
              "      <button class=\"colab-df-convert\" onclick=\"convertToInteractive('df-fec5d01d-019f-4da9-bc1e-bfa815c03340')\"\n",
              "              title=\"Convert this dataframe to an interactive table.\"\n",
              "              style=\"display:none;\">\n",
              "        \n",
              "  <svg xmlns=\"http://www.w3.org/2000/svg\" height=\"24px\"viewBox=\"0 0 24 24\"\n",
              "       width=\"24px\">\n",
              "    <path d=\"M0 0h24v24H0V0z\" fill=\"none\"/>\n",
              "    <path d=\"M18.56 5.44l.94 2.06.94-2.06 2.06-.94-2.06-.94-.94-2.06-.94 2.06-2.06.94zm-11 1L8.5 8.5l.94-2.06 2.06-.94-2.06-.94L8.5 2.5l-.94 2.06-2.06.94zm10 10l.94 2.06.94-2.06 2.06-.94-2.06-.94-.94-2.06-.94 2.06-2.06.94z\"/><path d=\"M17.41 7.96l-1.37-1.37c-.4-.4-.92-.59-1.43-.59-.52 0-1.04.2-1.43.59L10.3 9.45l-7.72 7.72c-.78.78-.78 2.05 0 2.83L4 21.41c.39.39.9.59 1.41.59.51 0 1.02-.2 1.41-.59l7.78-7.78 2.81-2.81c.8-.78.8-2.07 0-2.86zM5.41 20L4 18.59l7.72-7.72 1.47 1.35L5.41 20z\"/>\n",
              "  </svg>\n",
              "      </button>\n",
              "      \n",
              "  <style>\n",
              "    .colab-df-container {\n",
              "      display:flex;\n",
              "      flex-wrap:wrap;\n",
              "      gap: 12px;\n",
              "    }\n",
              "\n",
              "    .colab-df-convert {\n",
              "      background-color: #E8F0FE;\n",
              "      border: none;\n",
              "      border-radius: 50%;\n",
              "      cursor: pointer;\n",
              "      display: none;\n",
              "      fill: #1967D2;\n",
              "      height: 32px;\n",
              "      padding: 0 0 0 0;\n",
              "      width: 32px;\n",
              "    }\n",
              "\n",
              "    .colab-df-convert:hover {\n",
              "      background-color: #E2EBFA;\n",
              "      box-shadow: 0px 1px 2px rgba(60, 64, 67, 0.3), 0px 1px 3px 1px rgba(60, 64, 67, 0.15);\n",
              "      fill: #174EA6;\n",
              "    }\n",
              "\n",
              "    [theme=dark] .colab-df-convert {\n",
              "      background-color: #3B4455;\n",
              "      fill: #D2E3FC;\n",
              "    }\n",
              "\n",
              "    [theme=dark] .colab-df-convert:hover {\n",
              "      background-color: #434B5C;\n",
              "      box-shadow: 0px 1px 3px 1px rgba(0, 0, 0, 0.15);\n",
              "      filter: drop-shadow(0px 1px 2px rgba(0, 0, 0, 0.3));\n",
              "      fill: #FFFFFF;\n",
              "    }\n",
              "  </style>\n",
              "\n",
              "      <script>\n",
              "        const buttonEl =\n",
              "          document.querySelector('#df-fec5d01d-019f-4da9-bc1e-bfa815c03340 button.colab-df-convert');\n",
              "        buttonEl.style.display =\n",
              "          google.colab.kernel.accessAllowed ? 'block' : 'none';\n",
              "\n",
              "        async function convertToInteractive(key) {\n",
              "          const element = document.querySelector('#df-fec5d01d-019f-4da9-bc1e-bfa815c03340');\n",
              "          const dataTable =\n",
              "            await google.colab.kernel.invokeFunction('convertToInteractive',\n",
              "                                                     [key], {});\n",
              "          if (!dataTable) return;\n",
              "\n",
              "          const docLinkHtml = 'Like what you see? Visit the ' +\n",
              "            '<a target=\"_blank\" href=https://colab.research.google.com/notebooks/data_table.ipynb>data table notebook</a>'\n",
              "            + ' to learn more about interactive tables.';\n",
              "          element.innerHTML = '';\n",
              "          dataTable['output_type'] = 'display_data';\n",
              "          await google.colab.output.renderOutput(dataTable, element);\n",
              "          const docLink = document.createElement('div');\n",
              "          docLink.innerHTML = docLinkHtml;\n",
              "          element.appendChild(docLink);\n",
              "        }\n",
              "      </script>\n",
              "    </div>\n",
              "  </div>\n",
              "  "
            ]
          },
          "metadata": {}
        }
      ]
    },
    {
      "cell_type": "markdown",
      "source": [
        "**Informasi terkait missing values and duplication**"
      ],
      "metadata": {
        "id": "LiSMUVvieOl5"
      }
    },
    {
      "cell_type": "code",
      "source": [
        "# Missing values\n",
        "print(\"##### MISSING VALUES #####\")\n",
        "display(df.isnull().sum())\n",
        "print(\"--------------------------\")\n",
        "\n",
        "categorical_data = ['shape', 'color', 'fancy_color_dominant_color', 'fancy_color_secondary_color',\n",
        "                    'fancy_color_overtone', 'fancy_color_intensity', 'clarity', 'cut', 'symmetry', \n",
        "                    'polish', 'girdle_min', 'girdle_max', 'culet_size', 'culet_condition', 'lab']\n",
        "\n",
        "# method to detect data duplication\n",
        "def detect_duplication(column):\n",
        "  return df[column].duplicated().sum()\n",
        "\n",
        "# method to detect unique value\n",
        "def detect_unique_value(column):\n",
        "  return pd.unique(df[column])\n",
        "\n",
        "for item in categorical_data:\n",
        "  print(\"##### \" + item + \" #####\")\n",
        "  print(\"number of duplication:\", detect_duplication(item))\n",
        "  display(detect_unique_value(item))\n",
        "  print(\"------------------------\")"
      ],
      "metadata": {
        "id": "G8_TmEb_eWCB",
        "outputId": "0fc8ac0c-d50e-4842-ea35-deca5adad213",
        "colab": {
          "base_uri": "https://localhost:8080/",
          "height": 1000
        }
      },
      "execution_count": 8,
      "outputs": [
        {
          "output_type": "stream",
          "name": "stdout",
          "text": [
            "##### MISSING VALUES #####\n"
          ]
        },
        {
          "output_type": "display_data",
          "data": {
            "text/plain": [
              "diamond_id                          0\n",
              "shape                               0\n",
              "size                                0\n",
              "color                            9162\n",
              "fancy_color_dominant_color     210540\n",
              "fancy_color_secondary_color    218642\n",
              "fancy_color_overtone           217666\n",
              "fancy_color_intensity          210542\n",
              "clarity                             0\n",
              "cut                             60607\n",
              "symmetry                            0\n",
              "polish                              0\n",
              "meas_length                         0\n",
              "meas_width                          0\n",
              "meas_depth                          0\n",
              "girdle_min                      83433\n",
              "girdle_max                      84296\n",
              "culet_size                      85741\n",
              "culet_condition                204385\n",
              "lab                                 0\n",
              "date                                0\n",
              "TARGET_sales_price                  0\n",
              "TARGET_logistic                     0\n",
              "TARGET_softmax                      0\n",
              "dtype: int64"
            ]
          },
          "metadata": {}
        },
        {
          "output_type": "stream",
          "name": "stdout",
          "text": [
            "--------------------------\n",
            "##### shape #####\n",
            "number of duplication: 219693\n"
          ]
        },
        {
          "output_type": "display_data",
          "data": {
            "text/plain": [
              "array(['Round', 'Pear', 'Oval', 'Marquise', 'Princess', 'Emerald',\n",
              "       'Heart', 'Cushion', 'Radiant', 'Cushion Modified', 'Asscher'],\n",
              "      dtype=object)"
            ]
          },
          "metadata": {}
        },
        {
          "output_type": "stream",
          "name": "stdout",
          "text": [
            "------------------------\n",
            "##### color #####\n",
            "number of duplication: 219693\n"
          ]
        },
        {
          "output_type": "display_data",
          "data": {
            "text/plain": [
              "array(['E', 'F', 'L', 'D', 'J', 'I', 'G', 'H', 'M', 'K', nan],\n",
              "      dtype=object)"
            ]
          },
          "metadata": {}
        },
        {
          "output_type": "stream",
          "name": "stdout",
          "text": [
            "------------------------\n",
            "##### fancy_color_dominant_color #####\n",
            "number of duplication: 219691\n"
          ]
        },
        {
          "output_type": "display_data",
          "data": {
            "text/plain": [
              "array([nan, 'Orange', 'Brown', 'Yellow', 'Pink', 'Black', 'Other', 'Gray',\n",
              "       'Purple', 'Blue', 'Green', 'Chameleon', 'Red'], dtype=object)"
            ]
          },
          "metadata": {}
        },
        {
          "output_type": "stream",
          "name": "stdout",
          "text": [
            "------------------------\n",
            "##### fancy_color_secondary_color #####\n",
            "number of duplication: 219693\n"
          ]
        },
        {
          "output_type": "display_data",
          "data": {
            "text/plain": [
              "array([nan, 'Purple', 'Green', 'Yellow', 'Brown', 'Orange', 'Pink',\n",
              "       'Gray', 'Blue', 'Violet', 'Red'], dtype=object)"
            ]
          },
          "metadata": {}
        },
        {
          "output_type": "stream",
          "name": "stdout",
          "text": [
            "------------------------\n",
            "##### fancy_color_overtone #####\n",
            "number of duplication: 219695\n"
          ]
        },
        {
          "output_type": "display_data",
          "data": {
            "text/plain": [
              "array([nan, 'None', 'Yellowish', 'Brownish', 'Pinkish', 'Greenish',\n",
              "       'Orangey', 'Purplish', 'Grayish'], dtype=object)"
            ]
          },
          "metadata": {}
        },
        {
          "output_type": "stream",
          "name": "stdout",
          "text": [
            "------------------------\n",
            "##### fancy_color_intensity #####\n",
            "number of duplication: 219694\n"
          ]
        },
        {
          "output_type": "display_data",
          "data": {
            "text/plain": [
              "array([nan, 'Fancy', 'Very Light', 'Faint', 'Fancy Light', 'Light',\n",
              "       'Fancy Deep', 'Fancy Intense', 'Fancy Dark', 'Fancy Vivid'],\n",
              "      dtype=object)"
            ]
          },
          "metadata": {}
        },
        {
          "output_type": "stream",
          "name": "stdout",
          "text": [
            "------------------------\n",
            "##### clarity #####\n",
            "number of duplication: 219693\n"
          ]
        },
        {
          "output_type": "display_data",
          "data": {
            "text/plain": [
              "array(['VVS2', 'VVS1', 'I1', 'VS1', 'VS2', 'IF', 'SI2', 'I2', 'SI1',\n",
              "       'SI3', 'I3'], dtype=object)"
            ]
          },
          "metadata": {}
        },
        {
          "output_type": "stream",
          "name": "stdout",
          "text": [
            "------------------------\n",
            "##### cut #####\n",
            "number of duplication: 219697\n"
          ]
        },
        {
          "output_type": "display_data",
          "data": {
            "text/plain": [
              "array(['Excellent', 'Very Good', nan, 'Good', 'Fair', 'None', 'Ideal'],\n",
              "      dtype=object)"
            ]
          },
          "metadata": {}
        },
        {
          "output_type": "stream",
          "name": "stdout",
          "text": [
            "------------------------\n",
            "##### symmetry #####\n",
            "number of duplication: 219699\n"
          ]
        },
        {
          "output_type": "display_data",
          "data": {
            "text/plain": [
              "array(['Very Good', 'Excellent', 'Good', 'Fair', 'Poor'], dtype=object)"
            ]
          },
          "metadata": {}
        },
        {
          "output_type": "stream",
          "name": "stdout",
          "text": [
            "------------------------\n",
            "##### polish #####\n",
            "number of duplication: 219699\n"
          ]
        },
        {
          "output_type": "display_data",
          "data": {
            "text/plain": [
              "array(['Very Good', 'Excellent', 'Good', 'Fair', 'Poor'], dtype=object)"
            ]
          },
          "metadata": {}
        },
        {
          "output_type": "stream",
          "name": "stdout",
          "text": [
            "------------------------\n",
            "##### girdle_min #####\n",
            "number of duplication: 219694\n"
          ]
        },
        {
          "output_type": "display_data",
          "data": {
            "text/plain": [
              "array(['M', 'STK', 'TN', 'TK', nan, 'VTN', 'VTK', 'XTK', 'XTN', 'STN'],\n",
              "      dtype=object)"
            ]
          },
          "metadata": {}
        },
        {
          "output_type": "stream",
          "name": "stdout",
          "text": [
            "------------------------\n",
            "##### girdle_max #####\n",
            "number of duplication: 219694\n"
          ]
        },
        {
          "output_type": "display_data",
          "data": {
            "text/plain": [
              "array(['M', 'STK', 'TK', nan, 'TN', 'VTK', 'XTK', 'XTN', 'VTN', 'STN'],\n",
              "      dtype=object)"
            ]
          },
          "metadata": {}
        },
        {
          "output_type": "stream",
          "name": "stdout",
          "text": [
            "------------------------\n",
            "##### culet_size #####\n",
            "number of duplication: 219695\n"
          ]
        },
        {
          "output_type": "display_data",
          "data": {
            "text/plain": [
              "array(['N', nan, 'S', 'M', 'VS', 'L', 'EL', 'SL', 'VL'], dtype=object)"
            ]
          },
          "metadata": {}
        },
        {
          "output_type": "stream",
          "name": "stdout",
          "text": [
            "------------------------\n",
            "##### culet_condition #####\n",
            "number of duplication: 219700\n"
          ]
        },
        {
          "output_type": "display_data",
          "data": {
            "text/plain": [
              "array([nan, 'Abraded', 'Chipped', 'Pointed'], dtype=object)"
            ]
          },
          "metadata": {}
        },
        {
          "output_type": "stream",
          "name": "stdout",
          "text": [
            "------------------------\n",
            "##### lab #####\n",
            "number of duplication: 219701\n"
          ]
        },
        {
          "output_type": "display_data",
          "data": {
            "text/plain": [
              "array(['IGI', 'GIA', 'HRD'], dtype=object)"
            ]
          },
          "metadata": {}
        },
        {
          "output_type": "stream",
          "name": "stdout",
          "text": [
            "------------------------\n"
          ]
        }
      ]
    },
    {
      "cell_type": "markdown",
      "source": [
        "**Informasi terkait outlier**"
      ],
      "metadata": {
        "id": "0ZJ233qdjSZC"
      }
    },
    {
      "cell_type": "code",
      "source": [
        "# method to count number of outliers\n",
        "numerical_data = [\"size\", \"meas_length\", \"meas_width\", \"meas_depth\"]\n",
        "\n",
        "supl = []\n",
        "def count_outliers(column):\n",
        "  attr = df[column]\n",
        "  q1, q3= np.percentile(attr, [25, 75])\n",
        "  iqr = q3 - q1\n",
        "  lower_bound = q1 - (1.5 * iqr) \n",
        "  upper_bound = q3 + (1.5 * iqr)\n",
        "  supl.append(lower_bound)\n",
        "  supl.append(upper_bound)\n",
        "  number_of_outliers = ((attr < lower_bound) | (attr > upper_bound)).sum()\n",
        "  return number_of_outliers\n",
        "\n",
        "for item in numerical_data:\n",
        "  display(count_outliers(item))"
      ],
      "metadata": {
        "id": "J34VIER2jUPW",
        "outputId": "ab36070c-a002-4251-ea16-f2244fc013b4",
        "colab": {
          "base_uri": "https://localhost:8080/",
          "height": 86
        }
      },
      "execution_count": 9,
      "outputs": [
        {
          "output_type": "display_data",
          "data": {
            "text/plain": [
              "9447"
            ]
          },
          "metadata": {}
        },
        {
          "output_type": "display_data",
          "data": {
            "text/plain": [
              "9882"
            ]
          },
          "metadata": {}
        },
        {
          "output_type": "display_data",
          "data": {
            "text/plain": [
              "11456"
            ]
          },
          "metadata": {}
        },
        {
          "output_type": "display_data",
          "data": {
            "text/plain": [
              "9115"
            ]
          },
          "metadata": {}
        }
      ]
    },
    {
      "cell_type": "markdown",
      "source": [
        "2. [5] Berdasarkan eksplorasi anda pada nomor 1, lakukan data preparation hingga data tersebut menurut anda cukup “clean” dan dapat memberikan hasil regresi yang maksimal."
      ],
      "metadata": {
        "id": "zbcQZGY7Ktfx"
      }
    },
    {
      "cell_type": "markdown",
      "source": [
        "**Handle missing values**"
      ],
      "metadata": {
        "id": "Q7D2-4rw1WP5"
      }
    },
    {
      "cell_type": "code",
      "source": [
        "# Berikan jawaban 2 di sini\n",
        "# Handle missing value of color, cut, girdle_min, girdle_max, culet_size\n",
        "tolerable_missing_value = ['color', 'cut', 'girdle_min', 'girdle_max', 'culet_size']\n",
        "for item in tolerable_missing_value:\n",
        "  most_frequent_item = df[item].mode()[0]\n",
        "  df[item].fillna(most_frequent_item, inplace = True)\n",
        "\n",
        "display(df.isnull().sum())\n",
        "df.dropna(axis = 1, inplace = True)\n",
        "df.shape"
      ],
      "metadata": {
        "id": "twxa4Ym3KlAc",
        "outputId": "345b0604-1228-466b-e601-02b7e6718fd4",
        "colab": {
          "base_uri": "https://localhost:8080/",
          "height": 468
        }
      },
      "execution_count": 10,
      "outputs": [
        {
          "output_type": "display_data",
          "data": {
            "text/plain": [
              "diamond_id                          0\n",
              "shape                               0\n",
              "size                                0\n",
              "color                               0\n",
              "fancy_color_dominant_color     210540\n",
              "fancy_color_secondary_color    218642\n",
              "fancy_color_overtone           217666\n",
              "fancy_color_intensity          210542\n",
              "clarity                             0\n",
              "cut                                 0\n",
              "symmetry                            0\n",
              "polish                              0\n",
              "meas_length                         0\n",
              "meas_width                          0\n",
              "meas_depth                          0\n",
              "girdle_min                          0\n",
              "girdle_max                          0\n",
              "culet_size                          0\n",
              "culet_condition                204385\n",
              "lab                                 0\n",
              "date                                0\n",
              "TARGET_sales_price                  0\n",
              "TARGET_logistic                     0\n",
              "TARGET_softmax                      0\n",
              "dtype: int64"
            ]
          },
          "metadata": {}
        },
        {
          "output_type": "execute_result",
          "data": {
            "text/plain": [
              "(219704, 19)"
            ]
          },
          "metadata": {},
          "execution_count": 10
        }
      ]
    },
    {
      "cell_type": "markdown",
      "source": [
        "**Handle outlier**"
      ],
      "metadata": {
        "id": "1B63UmbwAzfC"
      }
    },
    {
      "cell_type": "code",
      "source": [
        "supl = []\n",
        "numerical_data = [\"size\", \"meas_length\", \"meas_width\", \"meas_depth\"]\n",
        "def count_outliers(column):\n",
        "  attr = df[column]\n",
        "  q1, q3= np.percentile(attr, [25, 75])\n",
        "  iqr = q3 - q1\n",
        "  lower_bound = q1 - (1.5 * iqr) \n",
        "  upper_bound = q3 + (1.5 * iqr)\n",
        "  supl.append(lower_bound)\n",
        "  supl.append(upper_bound)\n",
        "  result = df.loc[(attr > lower_bound) & (attr < upper_bound)]\n",
        "  return result\n",
        "\n",
        "for item in numerical_data:\n",
        "  df = count_outliers(item)\n",
        "\n",
        "df.shape"
      ],
      "metadata": {
        "id": "9RiL0RRiA1n_",
        "outputId": "4b990775-2942-4b42-ba42-1be3e052a640",
        "colab": {
          "base_uri": "https://localhost:8080/"
        }
      },
      "execution_count": 11,
      "outputs": [
        {
          "output_type": "execute_result",
          "data": {
            "text/plain": [
              "(194061, 19)"
            ]
          },
          "metadata": {},
          "execution_count": 11
        }
      ]
    },
    {
      "cell_type": "markdown",
      "source": [
        "3. [10] Menurut Anda, apabila dilakukan linear regression, logistic regression, dan softmax regression apakah perlu dilakukan normalisasi terhadap data sebelum pemrosesan lebih lanjut, atau cukup menggunakan data asli? Jika ya, bentuk normalisasi apa yang tepat digunakan pada data? Jelaskan secara singkat alasan Anda!"
      ],
      "metadata": {
        "id": "N1qkjG65KuD2"
      }
    },
    {
      "cell_type": "markdown",
      "source": [
        "> Ya perlu, normalisasi perlu dilakukan untuk memastikan bahwa semua value yang terdapat dalam data dapat diproses secara numerik. Terlebih attribute dengan tipe object, mengingat object tidak dapat diproses secara numerik. Sedangkan apabila kita berbicara terkait regression, operasi secara numerik dan matematis sangat diperlukan.\\\n",
        "> Normalisasi: One-Hot Encoding, karena one-hot encoding dapat menangani tipe data object yang cenderung sulit dan rawan misinterpret pada data label-encoding. Selain itu one-hot encoding jauh lebih fair dalam memberikan bobot pada tiap valuenya, sehingga tidak perlu ditangani secara manual. Kelemahannya hanya akan menambah jumlah kolom pada data"
      ],
      "metadata": {
        "id": "14fl-QXlK0_a"
      }
    },
    {
      "cell_type": "code",
      "source": [
        "df_one_hot_encoded = pd.get_dummies(\n",
        "    df.drop(['date', 'TARGET_sales_price', 'TARGET_logistic', 'TARGET_softmax'], axis = 1))\n",
        "display(df_one_hot_encoded)"
      ],
      "metadata": {
        "id": "TqHxt3Arw4TJ",
        "outputId": "9e5d8ef9-59de-4924-c054-943f5d94af6d",
        "colab": {
          "base_uri": "https://localhost:8080/",
          "height": 505
        }
      },
      "execution_count": 12,
      "outputs": [
        {
          "output_type": "display_data",
          "data": {
            "text/plain": [
              "        diamond_id  size  meas_length  meas_width  meas_depth  shape_Asscher  \\\n",
              "0        131328926  0.09         2.85        2.87        1.79              0   \n",
              "1        131704776  0.09         2.84        2.89        1.78              0   \n",
              "2        131584417  0.09         2.88        2.90        1.77              0   \n",
              "3        131584416  0.09         2.86        2.88        1.78              0   \n",
              "4        131613644  0.09         2.79        2.83        1.82              0   \n",
              "...            ...   ...          ...         ...         ...            ...   \n",
              "219487    92764399  1.50         6.49        6.05        4.26              0   \n",
              "219491   135118963  0.52         4.78        4.23        2.76              0   \n",
              "219525   114767888  0.76         5.28        4.58        3.38              0   \n",
              "219685   116540612  0.89         6.44        4.96        3.16              0   \n",
              "219702   114752541  0.90         5.22        4.90        3.47              0   \n",
              "\n",
              "        shape_Cushion  shape_Cushion Modified  shape_Emerald  shape_Heart  \\\n",
              "0                   0                       0              0            0   \n",
              "1                   0                       0              0            0   \n",
              "2                   0                       0              0            0   \n",
              "3                   0                       0              0            0   \n",
              "4                   0                       0              0            0   \n",
              "...               ...                     ...            ...          ...   \n",
              "219487              0                       1              0            0   \n",
              "219491              0                       0              0            0   \n",
              "219525              0                       0              0            0   \n",
              "219685              0                       0              0            0   \n",
              "219702              0                       0              0            0   \n",
              "\n",
              "        ...  culet_size_L  culet_size_M  culet_size_N  culet_size_S  \\\n",
              "0       ...             0             0             1             0   \n",
              "1       ...             0             0             1             0   \n",
              "2       ...             0             0             1             0   \n",
              "3       ...             0             0             1             0   \n",
              "4       ...             0             0             1             0   \n",
              "...     ...           ...           ...           ...           ...   \n",
              "219487  ...             0             0             1             0   \n",
              "219491  ...             0             0             1             0   \n",
              "219525  ...             0             0             1             0   \n",
              "219685  ...             0             0             1             0   \n",
              "219702  ...             0             0             1             0   \n",
              "\n",
              "        culet_size_SL  culet_size_VL  culet_size_VS  lab_GIA  lab_HRD  lab_IGI  \n",
              "0                   0              0              0        0        0        1  \n",
              "1                   0              0              0        0        0        1  \n",
              "2                   0              0              0        0        0        1  \n",
              "3                   0              0              0        0        0        1  \n",
              "4                   0              0              0        0        0        1  \n",
              "...               ...            ...            ...      ...      ...      ...  \n",
              "219487              0              0              0        1        0        0  \n",
              "219491              0              0              0        1        0        0  \n",
              "219525              0              0              0        1        0        0  \n",
              "219685              0              0              0        1        0        0  \n",
              "219702              0              0              0        1        0        0  \n",
              "\n",
              "[194061 rows x 80 columns]"
            ],
            "text/html": [
              "\n",
              "  <div id=\"df-29d994e9-5549-49e4-81ef-d789c6ea525d\">\n",
              "    <div class=\"colab-df-container\">\n",
              "      <div>\n",
              "<style scoped>\n",
              "    .dataframe tbody tr th:only-of-type {\n",
              "        vertical-align: middle;\n",
              "    }\n",
              "\n",
              "    .dataframe tbody tr th {\n",
              "        vertical-align: top;\n",
              "    }\n",
              "\n",
              "    .dataframe thead th {\n",
              "        text-align: right;\n",
              "    }\n",
              "</style>\n",
              "<table border=\"1\" class=\"dataframe\">\n",
              "  <thead>\n",
              "    <tr style=\"text-align: right;\">\n",
              "      <th></th>\n",
              "      <th>diamond_id</th>\n",
              "      <th>size</th>\n",
              "      <th>meas_length</th>\n",
              "      <th>meas_width</th>\n",
              "      <th>meas_depth</th>\n",
              "      <th>shape_Asscher</th>\n",
              "      <th>shape_Cushion</th>\n",
              "      <th>shape_Cushion Modified</th>\n",
              "      <th>shape_Emerald</th>\n",
              "      <th>shape_Heart</th>\n",
              "      <th>...</th>\n",
              "      <th>culet_size_L</th>\n",
              "      <th>culet_size_M</th>\n",
              "      <th>culet_size_N</th>\n",
              "      <th>culet_size_S</th>\n",
              "      <th>culet_size_SL</th>\n",
              "      <th>culet_size_VL</th>\n",
              "      <th>culet_size_VS</th>\n",
              "      <th>lab_GIA</th>\n",
              "      <th>lab_HRD</th>\n",
              "      <th>lab_IGI</th>\n",
              "    </tr>\n",
              "  </thead>\n",
              "  <tbody>\n",
              "    <tr>\n",
              "      <th>0</th>\n",
              "      <td>131328926</td>\n",
              "      <td>0.09</td>\n",
              "      <td>2.85</td>\n",
              "      <td>2.87</td>\n",
              "      <td>1.79</td>\n",
              "      <td>0</td>\n",
              "      <td>0</td>\n",
              "      <td>0</td>\n",
              "      <td>0</td>\n",
              "      <td>0</td>\n",
              "      <td>...</td>\n",
              "      <td>0</td>\n",
              "      <td>0</td>\n",
              "      <td>1</td>\n",
              "      <td>0</td>\n",
              "      <td>0</td>\n",
              "      <td>0</td>\n",
              "      <td>0</td>\n",
              "      <td>0</td>\n",
              "      <td>0</td>\n",
              "      <td>1</td>\n",
              "    </tr>\n",
              "    <tr>\n",
              "      <th>1</th>\n",
              "      <td>131704776</td>\n",
              "      <td>0.09</td>\n",
              "      <td>2.84</td>\n",
              "      <td>2.89</td>\n",
              "      <td>1.78</td>\n",
              "      <td>0</td>\n",
              "      <td>0</td>\n",
              "      <td>0</td>\n",
              "      <td>0</td>\n",
              "      <td>0</td>\n",
              "      <td>...</td>\n",
              "      <td>0</td>\n",
              "      <td>0</td>\n",
              "      <td>1</td>\n",
              "      <td>0</td>\n",
              "      <td>0</td>\n",
              "      <td>0</td>\n",
              "      <td>0</td>\n",
              "      <td>0</td>\n",
              "      <td>0</td>\n",
              "      <td>1</td>\n",
              "    </tr>\n",
              "    <tr>\n",
              "      <th>2</th>\n",
              "      <td>131584417</td>\n",
              "      <td>0.09</td>\n",
              "      <td>2.88</td>\n",
              "      <td>2.90</td>\n",
              "      <td>1.77</td>\n",
              "      <td>0</td>\n",
              "      <td>0</td>\n",
              "      <td>0</td>\n",
              "      <td>0</td>\n",
              "      <td>0</td>\n",
              "      <td>...</td>\n",
              "      <td>0</td>\n",
              "      <td>0</td>\n",
              "      <td>1</td>\n",
              "      <td>0</td>\n",
              "      <td>0</td>\n",
              "      <td>0</td>\n",
              "      <td>0</td>\n",
              "      <td>0</td>\n",
              "      <td>0</td>\n",
              "      <td>1</td>\n",
              "    </tr>\n",
              "    <tr>\n",
              "      <th>3</th>\n",
              "      <td>131584416</td>\n",
              "      <td>0.09</td>\n",
              "      <td>2.86</td>\n",
              "      <td>2.88</td>\n",
              "      <td>1.78</td>\n",
              "      <td>0</td>\n",
              "      <td>0</td>\n",
              "      <td>0</td>\n",
              "      <td>0</td>\n",
              "      <td>0</td>\n",
              "      <td>...</td>\n",
              "      <td>0</td>\n",
              "      <td>0</td>\n",
              "      <td>1</td>\n",
              "      <td>0</td>\n",
              "      <td>0</td>\n",
              "      <td>0</td>\n",
              "      <td>0</td>\n",
              "      <td>0</td>\n",
              "      <td>0</td>\n",
              "      <td>1</td>\n",
              "    </tr>\n",
              "    <tr>\n",
              "      <th>4</th>\n",
              "      <td>131613644</td>\n",
              "      <td>0.09</td>\n",
              "      <td>2.79</td>\n",
              "      <td>2.83</td>\n",
              "      <td>1.82</td>\n",
              "      <td>0</td>\n",
              "      <td>0</td>\n",
              "      <td>0</td>\n",
              "      <td>0</td>\n",
              "      <td>0</td>\n",
              "      <td>...</td>\n",
              "      <td>0</td>\n",
              "      <td>0</td>\n",
              "      <td>1</td>\n",
              "      <td>0</td>\n",
              "      <td>0</td>\n",
              "      <td>0</td>\n",
              "      <td>0</td>\n",
              "      <td>0</td>\n",
              "      <td>0</td>\n",
              "      <td>1</td>\n",
              "    </tr>\n",
              "    <tr>\n",
              "      <th>...</th>\n",
              "      <td>...</td>\n",
              "      <td>...</td>\n",
              "      <td>...</td>\n",
              "      <td>...</td>\n",
              "      <td>...</td>\n",
              "      <td>...</td>\n",
              "      <td>...</td>\n",
              "      <td>...</td>\n",
              "      <td>...</td>\n",
              "      <td>...</td>\n",
              "      <td>...</td>\n",
              "      <td>...</td>\n",
              "      <td>...</td>\n",
              "      <td>...</td>\n",
              "      <td>...</td>\n",
              "      <td>...</td>\n",
              "      <td>...</td>\n",
              "      <td>...</td>\n",
              "      <td>...</td>\n",
              "      <td>...</td>\n",
              "      <td>...</td>\n",
              "    </tr>\n",
              "    <tr>\n",
              "      <th>219487</th>\n",
              "      <td>92764399</td>\n",
              "      <td>1.50</td>\n",
              "      <td>6.49</td>\n",
              "      <td>6.05</td>\n",
              "      <td>4.26</td>\n",
              "      <td>0</td>\n",
              "      <td>0</td>\n",
              "      <td>1</td>\n",
              "      <td>0</td>\n",
              "      <td>0</td>\n",
              "      <td>...</td>\n",
              "      <td>0</td>\n",
              "      <td>0</td>\n",
              "      <td>1</td>\n",
              "      <td>0</td>\n",
              "      <td>0</td>\n",
              "      <td>0</td>\n",
              "      <td>0</td>\n",
              "      <td>1</td>\n",
              "      <td>0</td>\n",
              "      <td>0</td>\n",
              "    </tr>\n",
              "    <tr>\n",
              "      <th>219491</th>\n",
              "      <td>135118963</td>\n",
              "      <td>0.52</td>\n",
              "      <td>4.78</td>\n",
              "      <td>4.23</td>\n",
              "      <td>2.76</td>\n",
              "      <td>0</td>\n",
              "      <td>0</td>\n",
              "      <td>0</td>\n",
              "      <td>0</td>\n",
              "      <td>0</td>\n",
              "      <td>...</td>\n",
              "      <td>0</td>\n",
              "      <td>0</td>\n",
              "      <td>1</td>\n",
              "      <td>0</td>\n",
              "      <td>0</td>\n",
              "      <td>0</td>\n",
              "      <td>0</td>\n",
              "      <td>1</td>\n",
              "      <td>0</td>\n",
              "      <td>0</td>\n",
              "    </tr>\n",
              "    <tr>\n",
              "      <th>219525</th>\n",
              "      <td>114767888</td>\n",
              "      <td>0.76</td>\n",
              "      <td>5.28</td>\n",
              "      <td>4.58</td>\n",
              "      <td>3.38</td>\n",
              "      <td>0</td>\n",
              "      <td>0</td>\n",
              "      <td>0</td>\n",
              "      <td>0</td>\n",
              "      <td>0</td>\n",
              "      <td>...</td>\n",
              "      <td>0</td>\n",
              "      <td>0</td>\n",
              "      <td>1</td>\n",
              "      <td>0</td>\n",
              "      <td>0</td>\n",
              "      <td>0</td>\n",
              "      <td>0</td>\n",
              "      <td>1</td>\n",
              "      <td>0</td>\n",
              "      <td>0</td>\n",
              "    </tr>\n",
              "    <tr>\n",
              "      <th>219685</th>\n",
              "      <td>116540612</td>\n",
              "      <td>0.89</td>\n",
              "      <td>6.44</td>\n",
              "      <td>4.96</td>\n",
              "      <td>3.16</td>\n",
              "      <td>0</td>\n",
              "      <td>0</td>\n",
              "      <td>0</td>\n",
              "      <td>0</td>\n",
              "      <td>0</td>\n",
              "      <td>...</td>\n",
              "      <td>0</td>\n",
              "      <td>0</td>\n",
              "      <td>1</td>\n",
              "      <td>0</td>\n",
              "      <td>0</td>\n",
              "      <td>0</td>\n",
              "      <td>0</td>\n",
              "      <td>1</td>\n",
              "      <td>0</td>\n",
              "      <td>0</td>\n",
              "    </tr>\n",
              "    <tr>\n",
              "      <th>219702</th>\n",
              "      <td>114752541</td>\n",
              "      <td>0.90</td>\n",
              "      <td>5.22</td>\n",
              "      <td>4.90</td>\n",
              "      <td>3.47</td>\n",
              "      <td>0</td>\n",
              "      <td>0</td>\n",
              "      <td>0</td>\n",
              "      <td>0</td>\n",
              "      <td>0</td>\n",
              "      <td>...</td>\n",
              "      <td>0</td>\n",
              "      <td>0</td>\n",
              "      <td>1</td>\n",
              "      <td>0</td>\n",
              "      <td>0</td>\n",
              "      <td>0</td>\n",
              "      <td>0</td>\n",
              "      <td>1</td>\n",
              "      <td>0</td>\n",
              "      <td>0</td>\n",
              "    </tr>\n",
              "  </tbody>\n",
              "</table>\n",
              "<p>194061 rows × 80 columns</p>\n",
              "</div>\n",
              "      <button class=\"colab-df-convert\" onclick=\"convertToInteractive('df-29d994e9-5549-49e4-81ef-d789c6ea525d')\"\n",
              "              title=\"Convert this dataframe to an interactive table.\"\n",
              "              style=\"display:none;\">\n",
              "        \n",
              "  <svg xmlns=\"http://www.w3.org/2000/svg\" height=\"24px\"viewBox=\"0 0 24 24\"\n",
              "       width=\"24px\">\n",
              "    <path d=\"M0 0h24v24H0V0z\" fill=\"none\"/>\n",
              "    <path d=\"M18.56 5.44l.94 2.06.94-2.06 2.06-.94-2.06-.94-.94-2.06-.94 2.06-2.06.94zm-11 1L8.5 8.5l.94-2.06 2.06-.94-2.06-.94L8.5 2.5l-.94 2.06-2.06.94zm10 10l.94 2.06.94-2.06 2.06-.94-2.06-.94-.94-2.06-.94 2.06-2.06.94z\"/><path d=\"M17.41 7.96l-1.37-1.37c-.4-.4-.92-.59-1.43-.59-.52 0-1.04.2-1.43.59L10.3 9.45l-7.72 7.72c-.78.78-.78 2.05 0 2.83L4 21.41c.39.39.9.59 1.41.59.51 0 1.02-.2 1.41-.59l7.78-7.78 2.81-2.81c.8-.78.8-2.07 0-2.86zM5.41 20L4 18.59l7.72-7.72 1.47 1.35L5.41 20z\"/>\n",
              "  </svg>\n",
              "      </button>\n",
              "      \n",
              "  <style>\n",
              "    .colab-df-container {\n",
              "      display:flex;\n",
              "      flex-wrap:wrap;\n",
              "      gap: 12px;\n",
              "    }\n",
              "\n",
              "    .colab-df-convert {\n",
              "      background-color: #E8F0FE;\n",
              "      border: none;\n",
              "      border-radius: 50%;\n",
              "      cursor: pointer;\n",
              "      display: none;\n",
              "      fill: #1967D2;\n",
              "      height: 32px;\n",
              "      padding: 0 0 0 0;\n",
              "      width: 32px;\n",
              "    }\n",
              "\n",
              "    .colab-df-convert:hover {\n",
              "      background-color: #E2EBFA;\n",
              "      box-shadow: 0px 1px 2px rgba(60, 64, 67, 0.3), 0px 1px 3px 1px rgba(60, 64, 67, 0.15);\n",
              "      fill: #174EA6;\n",
              "    }\n",
              "\n",
              "    [theme=dark] .colab-df-convert {\n",
              "      background-color: #3B4455;\n",
              "      fill: #D2E3FC;\n",
              "    }\n",
              "\n",
              "    [theme=dark] .colab-df-convert:hover {\n",
              "      background-color: #434B5C;\n",
              "      box-shadow: 0px 1px 3px 1px rgba(0, 0, 0, 0.15);\n",
              "      filter: drop-shadow(0px 1px 2px rgba(0, 0, 0, 0.3));\n",
              "      fill: #FFFFFF;\n",
              "    }\n",
              "  </style>\n",
              "\n",
              "      <script>\n",
              "        const buttonEl =\n",
              "          document.querySelector('#df-29d994e9-5549-49e4-81ef-d789c6ea525d button.colab-df-convert');\n",
              "        buttonEl.style.display =\n",
              "          google.colab.kernel.accessAllowed ? 'block' : 'none';\n",
              "\n",
              "        async function convertToInteractive(key) {\n",
              "          const element = document.querySelector('#df-29d994e9-5549-49e4-81ef-d789c6ea525d');\n",
              "          const dataTable =\n",
              "            await google.colab.kernel.invokeFunction('convertToInteractive',\n",
              "                                                     [key], {});\n",
              "          if (!dataTable) return;\n",
              "\n",
              "          const docLinkHtml = 'Like what you see? Visit the ' +\n",
              "            '<a target=\"_blank\" href=https://colab.research.google.com/notebooks/data_table.ipynb>data table notebook</a>'\n",
              "            + ' to learn more about interactive tables.';\n",
              "          element.innerHTML = '';\n",
              "          dataTable['output_type'] = 'display_data';\n",
              "          await google.colab.output.renderOutput(dataTable, element);\n",
              "          const docLink = document.createElement('div');\n",
              "          docLink.innerHTML = docLinkHtml;\n",
              "          element.appendChild(docLink);\n",
              "        }\n",
              "      </script>\n",
              "    </div>\n",
              "  </div>\n",
              "  "
            ]
          },
          "metadata": {}
        }
      ]
    },
    {
      "cell_type": "markdown",
      "source": [
        "# [45] Regresi \n",
        "(Penggunaan library diperbolehkan). Gunakan TARGET_sales_price sebagai kolom target.\n",
        "1. [15] Implementasikan Linear Regression pada data hasil preprocessing. Gunakan Method dari library sklearn.\n",
        ">- Tampilkan visualisasi hasil prediksi\n",
        ">- Tampilkan nilai MSE, MAE, RMSE, dan R-Squared\n",
        "\n",
        "\n"
      ],
      "metadata": {
        "id": "PNXYK4HHJqDS"
      }
    },
    {
      "cell_type": "markdown",
      "source": [
        "**Preparation**"
      ],
      "metadata": {
        "id": "kgwbAqGmE6b0"
      }
    },
    {
      "cell_type": "code",
      "source": [
        "# Separate between target and predictor\n",
        "## Jumlah data dapat diatur\n",
        "x_predictor = df_one_hot_encoded\n",
        "y_target = df.loc[:, ['TARGET_sales_price']]\n",
        "\n",
        "# Scaling\n",
        "from sklearn.preprocessing import StandardScaler\n",
        "scale = StandardScaler()\n",
        "scale_x_predictor = scale.fit_transform(x_predictor)\n",
        "\n",
        "# Project to 1D\n",
        "from sklearn.decomposition import PCA\n",
        "pca = PCA(n_components = 1)\n",
        "pca_component = pca.fit_transform(scale_x_predictor)\n",
        "df_pca_component = pd.DataFrame(data = pca_component, columns = [\n",
        "  'Principal Component 1'])\n",
        "predictor_concat_target = pd.concat([df_pca_component, y_target], axis = 1, join = 'outer')\n",
        "\n",
        "# Split into training and testing set\n",
        "from sklearn.model_selection import train_test_split\n",
        "x_train, x_test, y_train, y_test = train_test_split(df_pca_component, y_target, test_size = 0.2, random_state = 30)"
      ],
      "metadata": {
        "id": "3VuXwdetE8Be"
      },
      "execution_count": 89,
      "outputs": []
    },
    {
      "cell_type": "markdown",
      "source": [
        "**Linear regression**"
      ],
      "metadata": {
        "id": "sQh7Kg_cpXO_"
      }
    },
    {
      "cell_type": "code",
      "source": [
        "# Train the model\n",
        "from sklearn.linear_model import LinearRegression\n",
        "regressor = LinearRegression()\n",
        "regressor.fit(x_train, y_train)\n",
        "\n",
        "# Predicting\n",
        "y_prediction = regressor.predict(x_test)\n",
        "print(x_test.shape)\n",
        "print(y_prediction.shape)"
      ],
      "metadata": {
        "colab": {
          "base_uri": "https://localhost:8080/"
        },
        "id": "BGATNaFnpaCQ",
        "outputId": "46dbf4fd-830a-432a-a181-946eb3f10b30"
      },
      "execution_count": 14,
      "outputs": [
        {
          "output_type": "stream",
          "name": "stdout",
          "text": [
            "(38813, 1)\n",
            "(38813, 1)\n"
          ]
        }
      ]
    },
    {
      "cell_type": "markdown",
      "source": [
        "**Visualisasi hasil prediksi**"
      ],
      "metadata": {
        "id": "IYRTd303k26L"
      }
    },
    {
      "cell_type": "code",
      "source": [
        "# Berikan jawaban 1 di sini\n",
        "from matplotlib import pyplot as plt\n",
        "plt.scatter(x_test, y_test, color = 'b')\n",
        "plt.plot(x_test, y_prediction, color = 'red')\n",
        "plt.show()"
      ],
      "metadata": {
        "id": "-qb6qtbuK4NT",
        "colab": {
          "base_uri": "https://localhost:8080/",
          "height": 276
        },
        "outputId": "7251a4d8-4647-45d8-c93e-2c04b47e2b70"
      },
      "execution_count": 15,
      "outputs": [
        {
          "output_type": "display_data",
          "data": {
            "text/plain": [
              "<Figure size 432x288 with 1 Axes>"
            ],
            "image/png": "[encoded data removed]"
          },
          "metadata": {
            "needs_background": "light"
          }
        }
      ]
    },
    {
      "cell_type": "markdown",
      "source": [
        "**Nilai MSE, MAE, RMSE, dan R-Squared**"
      ],
      "metadata": {
        "id": "Cj1mUjgCML0l"
      }
    },
    {
      "cell_type": "code",
      "source": [
        "# MSE (Mean Squared Error)\n",
        "from sklearn.metrics import mean_squared_error\n",
        "MSE = mean_squared_error(y_test, y_prediction)\n",
        "display(MSE)\n",
        "\n",
        "# MAE (Mean Absolute Error)\n",
        "from sklearn.metrics import mean_absolute_error\n",
        "MAE = mean_absolute_error(y_test, y_prediction)\n",
        "display(MAE)\n",
        "\n",
        "# RMSE\n",
        "RMSE = mean_squared_error(y_test, y_prediction, squared = False)\n",
        "display(RMSE)\n",
        "\n",
        "# R-Squared\n",
        "from sklearn.metrics import r2_score\n",
        "Rsqrt = r2_score(y_test, y_prediction)\n",
        "display(Rsqrt)"
      ],
      "metadata": {
        "colab": {
          "base_uri": "https://localhost:8080/",
          "height": 86
        },
        "id": "1aTFHfkWMPPN",
        "outputId": "33b094d7-2ed8-4b85-894a-ac6bd78d119f"
      },
      "execution_count": 16,
      "outputs": [
        {
          "output_type": "display_data",
          "data": {
            "text/plain": [
              "43794073.20508154"
            ]
          },
          "metadata": {}
        },
        {
          "output_type": "display_data",
          "data": {
            "text/plain": [
              "2074.078231364865"
            ]
          },
          "metadata": {}
        },
        {
          "output_type": "display_data",
          "data": {
            "text/plain": [
              "6617.709060171922"
            ]
          },
          "metadata": {}
        },
        {
          "output_type": "display_data",
          "data": {
            "text/plain": [
              "0.08727317013903668"
            ]
          },
          "metadata": {}
        }
      ]
    },
    {
      "cell_type": "markdown",
      "source": [
        "2. [10] Implementasikan Ridge Regression pada data hasil preprocessing. Gunakan method dari library sklearn.\n",
        ">- Tampilkan nilai  R-Squared\n",
        ">- Coba ubah parameter alpha dengan nilai yang lebih besar dan analisis bagaimana hubungan perubahan parameter tersebut dengan kualitas hasil regresi.\n",
        "\n",
        "**NOTE**: Parameter alpha adalah parameter yang merepresentasikan “kekuatan” dari regularisasi yang dilakukan oleh model. Regularisasi adalah teknik modifikasi yang digunakan untuk mengurangi generalization error, dengan kata lain menghindari overfitting. Hal ini dilakukan dengan memberikan batasan/constraint atau penambahan penalti pada parameter/atribut yang kita gunakan. Untuk lebih jelas, silahkan baca dokumentasi model Ridge dan Lasso yang ada pada link berikut : https://scikit-learn.org/stable/modules/classes.html#module-sklearn.linear_model"
      ],
      "metadata": {
        "id": "CACNgrF9K_5M"
      }
    },
    {
      "cell_type": "markdown",
      "source": [
        "**Ridge regression**"
      ],
      "metadata": {
        "id": "dpCxT_7uDjql"
      }
    },
    {
      "cell_type": "code",
      "source": [
        "# Training the model\n",
        "from sklearn.linear_model import Ridge\n",
        "ridge_regression = Ridge(alpha = .01)\n",
        "ridge_regression.fit(x_train, y_train)\n",
        "\n",
        "# Predicting\n",
        "y_prediction_ridge = ridge_regression.predict(x_test)\n",
        "print(x_test.shape)\n",
        "print(y_prediction_ridge.shape)"
      ],
      "metadata": {
        "colab": {
          "base_uri": "https://localhost:8080/"
        },
        "id": "Gs-1znFHDpG3",
        "outputId": "64a83374-0f0c-4e1f-f642-f617ab82b6a4"
      },
      "execution_count": 17,
      "outputs": [
        {
          "output_type": "stream",
          "name": "stdout",
          "text": [
            "(38813, 1)\n",
            "(38813, 1)\n"
          ]
        }
      ]
    },
    {
      "cell_type": "markdown",
      "source": [
        "**Nilai R-Squared**"
      ],
      "metadata": {
        "id": "5Huq0gNsHdzG"
      }
    },
    {
      "cell_type": "code",
      "source": [
        "# R-Squared\n",
        "from sklearn.metrics import r2_score\n",
        "Rsqrt_ridge = r2_score(y_test, y_prediction_ridge)\n",
        "display(Rsqrt_ridge)"
      ],
      "metadata": {
        "colab": {
          "base_uri": "https://localhost:8080/",
          "height": 34
        },
        "id": "PIlGmv-pHfgH",
        "outputId": "136d3725-a3ff-4f33-f75f-682a64f8d3c4"
      },
      "execution_count": 18,
      "outputs": [
        {
          "output_type": "display_data",
          "data": {
            "text/plain": [
              "0.08727317006681679"
            ]
          },
          "metadata": {}
        }
      ]
    },
    {
      "cell_type": "markdown",
      "source": [
        "**Perubahan parameter alpha**"
      ],
      "metadata": {
        "id": "F_pgXjn-H3Hz"
      }
    },
    {
      "cell_type": "code",
      "source": [
        "# Berikan jawaban 2 di sini\n",
        "# Training the model\n",
        "from sklearn.linear_model import Ridge\n",
        "ridge_regression = Ridge(alpha = 15)\n",
        "ridge_regression.fit(x_train, y_train)\n",
        "\n",
        "# Predicting\n",
        "y_prediction_ridge = ridge_regression.predict(x_test)\n",
        "print(x_test.shape)\n",
        "print(y_prediction_ridge.shape)\n",
        "\n",
        "# R-Squared\n",
        "from sklearn.metrics import r2_score\n",
        "Rsqrt_ridge = r2_score(y_test, y_prediction_ridge)\n",
        "display(Rsqrt_ridge)"
      ],
      "metadata": {
        "id": "2qpfUwcsK4bt",
        "colab": {
          "base_uri": "https://localhost:8080/",
          "height": 69
        },
        "outputId": "51f1e33b-6f48-44f3-dcb7-e66389d170f1"
      },
      "execution_count": 19,
      "outputs": [
        {
          "output_type": "stream",
          "name": "stdout",
          "text": [
            "(38813, 1)\n",
            "(38813, 1)\n"
          ]
        },
        {
          "output_type": "display_data",
          "data": {
            "text/plain": [
              "0.08727306178009087"
            ]
          },
          "metadata": {}
        }
      ]
    },
    {
      "cell_type": "markdown",
      "source": [
        "**Analisis keterkaitan nilai alpha pada hasil regresi**"
      ],
      "metadata": {
        "id": "8WQwM0bDIjCJ"
      }
    },
    {
      "cell_type": "markdown",
      "source": [
        "Berdasarkan percobaan yang sudah saya lakukan, terbukti bahwa nilai alpha berpengaruh pada kualitas hasil regresi. Dapat dilihat dari hasil nilai r-squared yang terbentuk. Nilai r-squared dengan alpha sebesar 15 terbukti lebih besar ketimbang r-squared dengan alpha sebesar .01. Namun perubahan ini tidaklah begitu signifikan, poin utamanya tetap pada kualitas model (untuk nilai r-squared).\n",
        "\n",
        "Mengingat nilai alpha yang terlalu besar dapat mengakibatkan underfit juga terlalu kecil dapat mengakibatkan overfit."
      ],
      "metadata": {
        "id": "xk026JpyIoQB"
      }
    },
    {
      "cell_type": "markdown",
      "source": [
        "3. [10] Implementasikan Lasso Regression pada data hasil preprocessing. Gunakan method dari library sklearn.\n",
        ">- Tampilkan nilai R-Squared.\n",
        ">- Coba ubah parameter alpha dengan nilai yang lebih besar dan analisis bagaimana hubungan perubahan parameter tersebut dengan kualitas hasil regresi."
      ],
      "metadata": {
        "id": "08VpRwsTLDI1"
      }
    },
    {
      "cell_type": "markdown",
      "source": [
        "**Lasso regression**"
      ],
      "metadata": {
        "id": "qDGp2kZiJuOx"
      }
    },
    {
      "cell_type": "code",
      "source": [
        "# Training the model\n",
        "from sklearn.linear_model import Lasso\n",
        "lasso_regression = Lasso(alpha = .01)\n",
        "lasso_regression.fit(x_train, y_train)\n",
        "\n",
        "# Predicting\n",
        "y_prediction_lasso = lasso_regression.predict(x_test)\n",
        "print(x_test.shape)\n",
        "print(y_prediction_lasso.shape)"
      ],
      "metadata": {
        "colab": {
          "base_uri": "https://localhost:8080/"
        },
        "id": "0iqdPKYOJxzd",
        "outputId": "5f57de0a-6ea5-4f8a-b279-f915a1022438"
      },
      "execution_count": 20,
      "outputs": [
        {
          "output_type": "stream",
          "name": "stdout",
          "text": [
            "(38813, 1)\n",
            "(38813,)\n"
          ]
        }
      ]
    },
    {
      "cell_type": "markdown",
      "source": [
        "**Nilai R-Squared**"
      ],
      "metadata": {
        "id": "Ik06x1SFKVKm"
      }
    },
    {
      "cell_type": "code",
      "source": [
        "# R-Squared\n",
        "from sklearn.metrics import r2_score\n",
        "Rsqrt_lasso = r2_score(y_test, y_prediction_lasso)\n",
        "display(Rsqrt_lasso)"
      ],
      "metadata": {
        "colab": {
          "base_uri": "https://localhost:8080/",
          "height": 34
        },
        "id": "xXEsy2atKXVz",
        "outputId": "070a10b3-6c43-403e-a2c2-4ac58e735391"
      },
      "execution_count": 21,
      "outputs": [
        {
          "output_type": "display_data",
          "data": {
            "text/plain": [
              "0.08727315760766652"
            ]
          },
          "metadata": {}
        }
      ]
    },
    {
      "cell_type": "markdown",
      "source": [
        "**Perubahan parameter alpha**"
      ],
      "metadata": {
        "id": "_WL1-gyzKfw6"
      }
    },
    {
      "cell_type": "code",
      "source": [
        "# Berikan jawaban 3 di sini\n",
        "# Training the model\n",
        "from sklearn.linear_model import Lasso\n",
        "lasso_regression = Lasso(alpha = 15)\n",
        "lasso_regression.fit(x_train, y_train)\n",
        "\n",
        "# Predicting\n",
        "y_prediction_lasso = lasso_regression.predict(x_test)\n",
        "print(x_test.shape)\n",
        "print(y_prediction_lasso.shape)\n",
        "\n",
        "# R-Squared\n",
        "from sklearn.metrics import r2_score\n",
        "Rsqrt_lasso = r2_score(y_test, y_prediction_lasso)\n",
        "display(Rsqrt_lasso)"
      ],
      "metadata": {
        "id": "KGDDtYyv5X5x",
        "colab": {
          "base_uri": "https://localhost:8080/",
          "height": 69
        },
        "outputId": "633bbf4b-3b59-4d18-bcd3-991369865e88"
      },
      "execution_count": 22,
      "outputs": [
        {
          "output_type": "stream",
          "name": "stdout",
          "text": [
            "(38813, 1)\n",
            "(38813,)\n"
          ]
        },
        {
          "output_type": "display_data",
          "data": {
            "text/plain": [
              "0.0872534324773161"
            ]
          },
          "metadata": {}
        }
      ]
    },
    {
      "cell_type": "markdown",
      "source": [
        "**Analisis keterkaitan nilai alpha pada hasil regresi**"
      ],
      "metadata": {
        "id": "2iudVc3KK6Hq"
      }
    },
    {
      "cell_type": "markdown",
      "source": [
        "Benar terbukti bahwa dengan menaikkan nilai parameter alpha dapat meningkatkan kualitas hasil regresi. Hal ini ditandai dengan peningkatan pada r-squared pada alpha = 15 dibandingkan dengan r-squared pada alpha = .01. Meskipun perubahannya tidak begitu signifikan.\n",
        "\n",
        "Seperti yang diketahui, semakin mendekati 1 maka r-squared dianggap correlated sedangkan semakin mendekati 0 maka dianggap less-corelated."
      ],
      "metadata": {
        "id": "7xviL0v5K_WQ"
      }
    },
    {
      "cell_type": "markdown",
      "source": [
        "4. [10] Bandingkan hasil dari ketiga metode. Manakah hasil yang terbaik? Apakah ada hal menarik yang bisa dibahas?"
      ],
      "metadata": {
        "id": "jDC-hd8D3gtt"
      }
    },
    {
      "cell_type": "markdown",
      "source": [
        "Apabila diasumsikan menggunakan r-squared sebagai acuan suatu model dianggap baik atau buruk, maka akan saya tampilkan hasil r-squared dari masing-masing modelnya.\n",
        "\n",
        "\n",
        "*   Linear Regression R-Squared: 0.0872733541079761\n",
        "*   Ridge Regression R-Squared dengan alpha .01 = 0.08727335403576153\n",
        "*   Lasso Regression R-Squared dengan alpha .01 = 0.08727334157756406\n",
        "\n",
        "Dari hasil diatas, dapat dilihat bahwa R-Squared pada Linear Regression > Ridge Regession > Lasso Regression. Sehingga dapat disimpulkan bahwa linear regression jauh lebih baik ketimbang dua metode lainnya, yakni Ridge dan Lasso.\n",
        "\n",
        "> Yang menjadi menarik dari pembahasan regression dengan metode yang berbeda ini adalah penggunaan alpha sebagai constraint atau 'parameter penjaga' dari kualitas model yang akan terbentuk. Hal ini berbeda dengan linear regression yang tidak perlu penggunaan alpha sebagai special constraint ini.\\\n",
        "\n",
        "> Saya merasa penentuan constraint alpha ini sangatlah sensitif dan vary among scientists and programmers. Sehingga kualitas dari regression yang terbentuk (dengan asumsi modelnya sama dan berkualitas baik) bisa bervariasi tergantung penentuan constraint alphanya.\n",
        "\n"
      ],
      "metadata": {
        "id": "j6jhzXkA5ajz"
      }
    },
    {
      "cell_type": "markdown",
      "source": [
        "# [30] Logistic and Softmax Regression\n",
        "\n",
        "Untuk pengerjaan soal silakan dilakukan train & test split dengan rasio 7:3\n",
        "\n",
        "1. [10] Implementasikan Logistic Regression dengan target yang digunakan adalah kolom TARGET_logistic. Gunakan method dari library sklearn.\n",
        ">- Visualisasikan ROC dan AUC.\n",
        ">- Tampilkan rata-rata akurasi yang didapat (baca method .score() pada dokumentasi sklearn)\n",
        "\n"
      ],
      "metadata": {
        "id": "qqscUyDYKY25"
      }
    },
    {
      "cell_type": "markdown",
      "source": [
        "**Preparation**"
      ],
      "metadata": {
        "id": "kZyTbZTmPyzs"
      }
    },
    {
      "cell_type": "code",
      "source": [
        "# Split into training and testing set\n",
        "from sklearn.model_selection import train_test_split\n",
        "y_target = df['TARGET_logistic']\n",
        "x_train, x_test, y_train, y_test = train_test_split(\n",
        "    df_pca_component, y_target, test_size = .3, random_state = 30)"
      ],
      "metadata": {
        "id": "flfrRWfsP0V4"
      },
      "execution_count": 243,
      "outputs": []
    },
    {
      "cell_type": "markdown",
      "source": [
        "**Logistic Regression**"
      ],
      "metadata": {
        "id": "vEmqbPHHP6iB"
      }
    },
    {
      "cell_type": "code",
      "source": [
        "# Training the model\n",
        "from sklearn.multiclass import OneVsRestClassifier\n",
        "from sklearn.linear_model import LogisticRegression\n",
        "logistic_regression = OneVsRestClassifier(LogisticRegression())\n",
        "logistic_regression.fit(x_train, y_train)\n",
        "\n",
        "# Predicting\n",
        "y_prediction_logistic = logistic_regression.predict(x_test)\n",
        "print(x_test.shape)\n",
        "print(y_prediction_logistic.shape)\n",
        "\n",
        "# Predict Probability\n",
        "pred_prob = logistic_regression.predict_proba(x_test)"
      ],
      "metadata": {
        "id": "3E9xvGsTP9dg",
        "outputId": "a41b8b65-f8b9-4367-f299-455745f87de2",
        "colab": {
          "base_uri": "https://localhost:8080/"
        }
      },
      "execution_count": 244,
      "outputs": [
        {
          "output_type": "stream",
          "name": "stdout",
          "text": [
            "(58219, 1)\n",
            "(58219,)\n"
          ]
        }
      ]
    },
    {
      "cell_type": "markdown",
      "source": [
        "**ROC and AUC**"
      ],
      "metadata": {
        "id": "V7V-jV1PTucT"
      }
    },
    {
      "cell_type": "code",
      "source": [
        "from sklearn.metrics import roc_auc_score, roc_curve\n",
        "fpr = {}\n",
        "tpr = {}\n",
        "thresholds = {}\n",
        "auc_score = {}\n",
        "for i in range(2):\n",
        "  fpr[i], tpr[i], thresholds[i] = roc_curve(y_test, pred_prob[:, i], pos_label=i)\n",
        "  auc_score[i] = roc_auc_score(y_test, pred_prob[:, i], multi_class='ovr')\n",
        "\n",
        "print(auc_score[0], auc_score[1])\n",
        "\n",
        "# plotting    \n",
        "plt.plot(fpr[0], tpr[0], linestyle='--', color='orange', label='Class 0 vs Rest')\n",
        "plt.plot(fpr[1], tpr[1], linestyle='--', color='green', label='Class 1 vs Rest')\n",
        "plt.title('Multiclass ROC curve')\n",
        "plt.xlabel('False Positive Rate')\n",
        "plt.ylabel('True Positive rate')\n",
        "plt.legend(loc='best')\n",
        "plt.savefig('Multiclass ROC',dpi=300)"
      ],
      "metadata": {
        "id": "iSBm-7dRTwbC",
        "outputId": "5a297714-6c98-4053-bcec-bc375cc40f0d",
        "colab": {
          "base_uri": "https://localhost:8080/",
          "height": 312
        }
      },
      "execution_count": 245,
      "outputs": [
        {
          "output_type": "stream",
          "name": "stdout",
          "text": [
            "0.2121566960182564 0.7878433039817436\n"
          ]
        },
        {
          "output_type": "display_data",
          "data": {
            "text/plain": [
              "<Figure size 432x288 with 1 Axes>"
            ],
            "image/png": "[encoded data removed]"
          },
          "metadata": {
            "needs_background": "light"
          }
        }
      ]
    },
    {
      "cell_type": "markdown",
      "source": [
        "**Accuracy of Model**"
      ],
      "metadata": {
        "id": "Wr2WvNnlweFL"
      }
    },
    {
      "cell_type": "code",
      "source": [
        "# Berikan jawaban 1 di sini\n",
        "score_train = logistic_regression.score(x_train, y_train)\n",
        "print(score_train)\n",
        "\n",
        "score_test = logistic_regression.score(x_test, y_test)\n",
        "print(score_test)"
      ],
      "metadata": {
        "id": "1mymZSZCLMAf",
        "colab": {
          "base_uri": "https://localhost:8080/"
        },
        "outputId": "af2aca82-7e4f-417d-af46-c96f48cf11cf"
      },
      "execution_count": 246,
      "outputs": [
        {
          "output_type": "stream",
          "name": "stdout",
          "text": [
            "0.6785751093181784\n",
            "0.6782150157165187\n"
          ]
        }
      ]
    },
    {
      "cell_type": "markdown",
      "source": [
        "2. [10] Implementasikan Softmax Regression dengan target yang digunakan adalah kolom TARGET_softmax. Gunakan method dari library sklearn.\n",
        ">- Visualisasikan Visualisasikan ROC dan AUC.\n",
        ">- Tampilkan rata-rata akurasi yang didapat."
      ],
      "metadata": {
        "id": "t-5wsoNQLMRW"
      }
    },
    {
      "cell_type": "markdown",
      "source": [
        "**Preparation**"
      ],
      "metadata": {
        "id": "rj-0ijU-wr2k"
      }
    },
    {
      "cell_type": "code",
      "source": [
        "# Split into training and testing set\n",
        "from sklearn.model_selection import train_test_split\n",
        "y_target = df['TARGET_softmax']\n",
        "x_train, x_test, y_train, y_test = train_test_split(\n",
        "    df_pca_component, y_target, test_size = .3, random_state = 30)"
      ],
      "metadata": {
        "id": "89d0YgOwwtk0"
      },
      "execution_count": 248,
      "outputs": []
    },
    {
      "cell_type": "markdown",
      "source": [
        "**Softmax Regression**"
      ],
      "metadata": {
        "id": "0CygVF1wwxnF"
      }
    },
    {
      "cell_type": "code",
      "source": [
        "# Training the model\n",
        "from sklearn.linear_model import LogisticRegression\n",
        "softmax_regression = LogisticRegression(multi_class='multinomial', solver='lbfgs')\n",
        "softmax_regression.fit(x_train, y_train)\n",
        "\n",
        "# Predicting\n",
        "y_prediction_logistic = softmax_regression.predict(x_test)\n",
        "print(x_test.shape)\n",
        "print(y_prediction_logistic.shape)\n",
        "\n",
        "# Predict Probability\n",
        "pred_prob = softmax_regression.predict_proba(x_test)"
      ],
      "metadata": {
        "id": "xKhNKeimwzdE",
        "outputId": "18d526e6-49ca-4f92-93ea-9ed0abec19aa",
        "colab": {
          "base_uri": "https://localhost:8080/"
        }
      },
      "execution_count": 249,
      "outputs": [
        {
          "output_type": "stream",
          "name": "stdout",
          "text": [
            "(58219, 1)\n",
            "(58219,)\n"
          ]
        }
      ]
    },
    {
      "cell_type": "markdown",
      "source": [
        "**ROC and AUC**"
      ],
      "metadata": {
        "id": "fSQQU0aYw4nD"
      }
    },
    {
      "cell_type": "code",
      "source": [
        "from sklearn.metrics import roc_auc_score, roc_curve\n",
        "fpr = {}\n",
        "tpr = {}\n",
        "thresholds = {}\n",
        "auc_score = {}\n",
        "for i in range(2):\n",
        "  fpr[i], tpr[i], thresholds[i] = roc_curve(y_test, pred_prob[:, i], pos_label=i)\n",
        "#   auc_score[i] = roc_auc_score(y_test, pred_prob[:, i], multi_class='ovr')\n",
        "\n",
        "# print(auc_score[0], auc_score[1])\n",
        "\n",
        "# plotting    \n",
        "plt.plot(fpr[0], tpr[0], linestyle='--', color='orange', label='Class 0 vs Rest')\n",
        "plt.plot(fpr[1], tpr[1], linestyle='--', color='green', label='Class 1 vs Rest')\n",
        "plt.title('Multiclass ROC curve')\n",
        "plt.xlabel('False Positive Rate')\n",
        "plt.ylabel('True Positive rate')\n",
        "plt.legend(loc='best')\n",
        "plt.savefig('Multiclass ROC',dpi=300)"
      ],
      "metadata": {
        "id": "dNfCLfW_w5XP",
        "outputId": "66bf5e7a-629b-43a8-a2ff-8f68daa4b0b2",
        "colab": {
          "base_uri": "https://localhost:8080/",
          "height": 295
        }
      },
      "execution_count": 250,
      "outputs": [
        {
          "output_type": "display_data",
          "data": {
            "text/plain": [
              "<Figure size 432x288 with 1 Axes>"
            ],
            "image/png": "[encoded data removed]"
          },
          "metadata": {
            "needs_background": "light"
          }
        }
      ]
    },
    {
      "cell_type": "markdown",
      "source": [
        "**Accuracy of Model**"
      ],
      "metadata": {
        "id": "Lib5pZiz1wIe"
      }
    },
    {
      "cell_type": "code",
      "source": [
        "# Barikan jawaban 2 di sini\n",
        "score_train = softmax_regression.score(x_train, y_train)\n",
        "print(score_train)\n",
        "\n",
        "score_test = softmax_regression.score(x_test, y_test)\n",
        "print(score_test)"
      ],
      "metadata": {
        "id": "i_cw0MgwKj4N",
        "colab": {
          "base_uri": "https://localhost:8080/"
        },
        "outputId": "f1832a3c-8141-461c-84ce-df5efd830f02"
      },
      "execution_count": 251,
      "outputs": [
        {
          "output_type": "stream",
          "name": "stdout",
          "text": [
            "0.6899927857363702\n",
            "0.6907023480307116\n"
          ]
        }
      ]
    },
    {
      "cell_type": "markdown",
      "source": [
        "3. [10] Bandingkan performa kedua model pada train and test. Model yang mana yang lebih bagus? Jelaskan kira-kira mengapa"
      ],
      "metadata": {
        "id": "-hroqe_e5WAe"
      }
    },
    {
      "cell_type": "markdown",
      "source": [
        "> Accuracy of Model pada Logistic Regression\n",
        "\n",
        "*   Train: 67.8% ~ 68%\n",
        "*   Test: 67.8% ~ 68%\n",
        "\n",
        "> Accuracy of Model pada Softmax Regression\n",
        "\n",
        "\n",
        "*   Train: 68.9% ~ 69%\n",
        "*   Test: 69%\n",
        "\n",
        "Berdasarkan perbandingan statistik yang sudah saya lampirkan, model pada softmax regression jauh lebih baik dengan akurasi sebesar 69%, lebih tinggi 2% ketimbang model pada logistic regression dengan akurasi sebesar 68%.\n",
        "\n",
        "Selain itu grafik kurva ROC pada softmax regression lebih rapih, tanpa overlap ketimbang kurva ROC pada logistic regression. Hal ini disebabkan karena softmax menggunakan parameter 'multinomial' yang mana dengan menggunakan multinomial besaran loss paling minimum merupakan besaran yang digunakan dan cocok untuk seluruh komponen pada dataset.\n",
        "\n",
        "Hal ini lah yang menyebabkan akurasi pada softmax lebih tinggi ketimbang pada logistic regression karena besaran error dan lossnya minimum untuk keseluruhan model."
      ],
      "metadata": {
        "id": "y0Z99Lcg5W8p"
      }
    }
  ]
}