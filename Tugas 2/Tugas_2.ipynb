{
  "cells": [
    {
      "cell_type": "markdown",
      "id": "6b194b4d",
      "metadata": {
        "id": "6b194b4d"
      },
      "source": [
        "<center>\n",
        "<img src=\"https://drive.google.com/uc?id=1f1gGVI-rxcHjA90WEGNvvtSXF1pAxQwg\" alt=\"Fasilkom UI\" width=\"300\"/>\n",
        "\n",
        "CSGE603130 • Kecerdasan Artifisial dan Sains Data Dasar\n",
        "\n",
        "Semester Ganjil 2021/2022\n",
        "\n",
        "Fakultas Ilmu Komputer, Universitas Indonesia\n",
        "\n",
        "##**Tugas *2*: *Clustering***\n",
        "\n",
        "###**Tenggat Waktu: **\n",
        "</center>\n",
        "\n",
        "####**Ketentuan:**\n",
        "\n",
        "1. Dataset yang digunakan pada tugas ini beserta deskripsinya telah disediakan di SCeLe.\n",
        "2. Buatlah program Jupyter Notebook yang menjawab pertanyaan sesuai dengan perintah soal yang disediakan.\n",
        "3. Dokumen Jupyter Notebook yang telah dilengkapi dengan jawaban dikumpulkan dengan format penamaan **Kelas_TugasX_NPM_Nama.ipynb**. Contoh: F_Tugas2_1706979341_Lulu Ilmaknun Qurotaini.ipynb\n",
        "4. Kumpulkan dokumen tersebut pada submisi yang telah disediakan di SCeLe sesuai dengan kelas masing-masing sebelum ****. Keterlambatan pengumpulan akan dikenakan pinalti.\n",
        "5. Praktikum ini dirancang sebagai **tugas mandiri**. Plagiarisme tidak diperkenankan dalam bentuk apapun. Adapun kolaborasi berupa diskusi (tanpa menyalin) dan literasi masih diperbolehkan dengan mencantumkan kolaborator dan sumber.\n"
      ]
    },
    {
      "cell_type": "markdown",
      "id": "4d386ea4",
      "metadata": {
        "id": "4d386ea4"
      },
      "source": [
        "## **Pernyataan Integritas**\n",
        "\n",
        "Wajib diisi. Tanpa pernyataan integritas submisi akan dikenakan pinalti."
      ]
    },
    {
      "cell_type": "code",
      "execution_count": null,
      "id": "8d67971f",
      "metadata": {
        "id": "8d67971f"
      },
      "outputs": [],
      "source": [
        "# Isi dengan data diri Anda\n",
        "NAMA = \"\"\n",
        "KELAS = \"\"\n",
        "NPM = \"\"\n",
        "\n",
        "# Isi dengan NPM teman yang berdiskusi dengan Anda\n",
        "KOLABORATOR = []\n",
        "\n",
        "# Isi dengan sumber referensi yang Anda gunakan dalam mengerjakan\n",
        "REFERENSI = []"
      ]
    },
    {
      "cell_type": "code",
      "execution_count": null,
      "id": "c40cb595",
      "metadata": {
        "id": "c40cb595",
        "outputId": "fcd37e5e-fb01-42d1-86ce-9e352b9c4696"
      },
      "outputs": [
        {
          "name": "stdout",
          "output_type": "stream",
          "text": [
            "Saya,  dari kelas  dengan NPM , menyatakan bahwa seluruh jawaban pada pekerjaan ini murni saya kerjakan sendiri.\n",
            "Saya tidak mencontek jawaban, memberikan jawaban, maupun menyalin dari sumber manapun.\n",
            " \n",
            "Jika saya melanggar pernyataan tersebut, saya siap menerima konsekuensi apapun yang diberikan.\n",
            "   ()\n"
          ]
        }
      ],
      "source": [
        "PERNYATAAN_INTEGRITAS = \"Saya, %s dari kelas %s dengan NPM %s, menyatakan bahwa seluruh jawaban pada pekerjaan ini murni saya kerjakan sendiri.\\n\\\n",
        "Saya tidak mencontek jawaban, memberikan jawaban, maupun menyalin dari sumber manapun.\\n \\\n",
        "\\n\\\n",
        "Jika saya melanggar pernyataan tersebut, saya siap menerima konsekuensi apapun yang diberikan.\\n   \\\n",
        "(%s)\" % (NAMA, KELAS, NPM, NAMA)\n",
        "\n",
        "print(PERNYATAAN_INTEGRITAS)"
      ]
    },
    {
      "cell_type": "markdown",
      "id": "6730974d",
      "metadata": {
        "id": "6730974d"
      },
      "source": [
        "## Soal Tugas 2\n",
        "**Catatan**: Algoritma clustering yang boleh dipakai pada tugas ini hanya K-means (menggunakan Euclidean distance) dan Agglomerative."
      ]
    },
    {
      "cell_type": "markdown",
      "source": [
        "These data are the results of a chemical analysis of wines grown in the same region in Italy but derived from different cultivars. The analysis determined the quantities of 13 constituents found in each of the types of wines.\n",
        "\n",
        "The attributes are:\n",
        "\n",
        "Alcohol\n",
        "\n",
        "* Alcohol\n",
        "* Malic acid\n",
        "* Ash\n",
        "* Alcalinity of ash\n",
        "* Magnesium\n",
        "* Total phenols\n",
        "* Flavanoids\n",
        "* Nonflavanoid phenols\n",
        "* Proanthocyanins\n",
        "* Color intensity\n",
        "* Hue\n",
        "* OD280/OD315 of diluted wines\n",
        "* Proline\n",
        "\n",
        "\n",
        "\n"
      ],
      "metadata": {
        "id": "8olB9Lp-UBaH"
      },
      "id": "8olB9Lp-UBaH"
    },
    {
      "cell_type": "markdown",
      "id": "2b4772c9",
      "metadata": {
        "id": "2b4772c9"
      },
      "source": [
        "### Soal 1 -  Teori (20 Poin)"
      ]
    },
    {
      "cell_type": "markdown",
      "id": "fb174869",
      "metadata": {
        "id": "fb174869"
      },
      "source": [
        "#### 1. Jelaskan 2 metode clustering selain K-means dan Agglomerative! Jelaskan juga aplikasi dari 2 metode clustering tersebut!"
      ]
    },
    {
      "cell_type": "markdown",
      "id": "b2568eb7",
      "metadata": {
        "id": "b2568eb7"
      },
      "source": [
        "#### 2. Jelaskan tujuan dari kernel trick di K-means algorithm!"
      ]
    },
    {
      "cell_type": "markdown",
      "id": "6bd8296a",
      "metadata": {
        "id": "6bd8296a"
      },
      "source": [
        "#### 3. Jelaskan perbedaan Single link, Complete link, dan Average link!"
      ]
    },
    {
      "cell_type": "markdown",
      "id": "099a9666",
      "metadata": {
        "id": "099a9666"
      },
      "source": [
        "#### 4. Apakah jika run K-means 2 kali hasil clusternya akan sama? Jelaskan dan tulis asumsi Anda jika ada!"
      ]
    },
    {
      "cell_type": "markdown",
      "id": "51b228e5",
      "metadata": {
        "id": "51b228e5"
      },
      "source": [
        "### Soal 2 - K-Means Clustering (50 Poin)"
      ]
    },
    {
      "cell_type": "markdown",
      "id": "eb92f2a8",
      "metadata": {
        "id": "eb92f2a8"
      },
      "source": [
        "#### 1. Read data dari cluster-data.csv dan visualisasikan pairplot untuk masing-masing atribut!"
      ]
    },
    {
      "cell_type": "markdown",
      "id": "09cb4d0a",
      "metadata": {
        "id": "09cb4d0a"
      },
      "source": [
        "#### 2. Aplikasikan PCA agar tersisa 2 principal component terkuat!"
      ]
    },
    {
      "cell_type": "markdown",
      "id": "7b3369c3",
      "metadata": {
        "id": "7b3369c3"
      },
      "source": [
        "#### 3. Dari 2 principal component yang didapatkan gunakan dan visualisasikan K-means inertia dan Silhouette score untuk menentukan jumlah cluster! (Hint: coba 2 sampai 6 cluster)"
      ]
    },
    {
      "cell_type": "markdown",
      "id": "4bf118c7",
      "metadata": {
        "id": "4bf118c7"
      },
      "source": [
        "#### 4. Aplikasikan K-means clustering terhadap kedua principal component tersebut!"
      ]
    },
    {
      "cell_type": "markdown",
      "id": "30ab2419",
      "metadata": {
        "id": "30ab2419"
      },
      "source": [
        "#### 5. Visualisasikan scatter plot antara kedua principal component tersebut menggunakan warna yang berbeda untuk menunjukkan cluster!"
      ]
    },
    {
      "cell_type": "markdown",
      "id": "b30b0147",
      "metadata": {
        "id": "b30b0147"
      },
      "source": [
        "### Soal 3 - Hierarchical Clustering (30 Poin)"
      ]
    },
    {
      "cell_type": "markdown",
      "id": "f42fcd5a",
      "metadata": {
        "id": "f42fcd5a"
      },
      "source": [
        "#### 1. Aplikasikan Hierarchical Clustering terhadap data dari cluster-data.csv!"
      ]
    },
    {
      "cell_type": "markdown",
      "id": "b2ba3af5",
      "metadata": {
        "id": "b2ba3af5"
      },
      "source": [
        "#### 2. Kemungkinan besar saat Anda menggunakan modul algoritma Agglomerative dari library sklearn, Anda harus mengubah parameter yang digunakan. Sebutkan parameter apa saja yang Anda gunakan beserta nilainya, dan jelaskan alasan Anda menggunakan parameter tersebut dan menggunakan nilai tersebut."
      ]
    },
    {
      "cell_type": "markdown",
      "id": "64ae3add",
      "metadata": {
        "id": "64ae3add"
      },
      "source": [
        "#### 3. Dari hasil hierarchical clustering apakah jumlah cluster optimal sama seperti K-means? Jelaskan hasilnya! (Hint: gunakan dendogram dan tarik garis vertical untuk menentukan cluster optimal hierarchical clustering)"
      ]
    },
    {
      "cell_type": "code",
      "execution_count": null,
      "id": "c0b1dda4",
      "metadata": {
        "id": "c0b1dda4"
      },
      "outputs": [],
      "source": [
        ""
      ]
    }
  ],
  "metadata": {
    "kernelspec": {
      "display_name": "Python 3 (ipykernel)",
      "language": "python",
      "name": "python3"
    },
    "language_info": {
      "codemirror_mode": {
        "name": "ipython",
        "version": 3
      },
      "file_extension": ".py",
      "mimetype": "text/x-python",
      "name": "python",
      "nbconvert_exporter": "python",
      "pygments_lexer": "ipython3",
      "version": "3.7.0"
    },
    "colab": {
      "name": "Tugas 2.ipynb",
      "provenance": [],
      "collapsed_sections": []
    }
  },
  "nbformat": 4,
  "nbformat_minor": 5
}